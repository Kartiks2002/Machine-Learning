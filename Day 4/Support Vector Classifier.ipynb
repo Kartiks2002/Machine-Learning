{
 "cells": [
  {
   "cell_type": "code",
   "execution_count": 1,
   "id": "4ad79d36-810b-4040-8a3b-71247f95a917",
   "metadata": {},
   "outputs": [
    {
     "data": {
      "text/html": [
       "<div>\n",
       "<style scoped>\n",
       "    .dataframe tbody tr th:only-of-type {\n",
       "        vertical-align: middle;\n",
       "    }\n",
       "\n",
       "    .dataframe tbody tr th {\n",
       "        vertical-align: top;\n",
       "    }\n",
       "\n",
       "    .dataframe thead th {\n",
       "        text-align: right;\n",
       "    }\n",
       "</style>\n",
       "<table border=\"1\" class=\"dataframe\">\n",
       "  <thead>\n",
       "    <tr style=\"text-align: right;\">\n",
       "      <th></th>\n",
       "      <th>Code</th>\n",
       "      <th>Clump</th>\n",
       "      <th>UniCell_Size</th>\n",
       "      <th>Uni_CellShape</th>\n",
       "      <th>MargAdh</th>\n",
       "      <th>SEpith</th>\n",
       "      <th>BareN</th>\n",
       "      <th>BChromatin</th>\n",
       "      <th>NoemN</th>\n",
       "      <th>Mitoses</th>\n",
       "      <th>Class</th>\n",
       "    </tr>\n",
       "  </thead>\n",
       "  <tbody>\n",
       "    <tr>\n",
       "      <th>0</th>\n",
       "      <td>61634</td>\n",
       "      <td>5</td>\n",
       "      <td>4</td>\n",
       "      <td>3</td>\n",
       "      <td>1</td>\n",
       "      <td>2</td>\n",
       "      <td>2</td>\n",
       "      <td>2</td>\n",
       "      <td>3</td>\n",
       "      <td>1</td>\n",
       "      <td>Benign</td>\n",
       "    </tr>\n",
       "    <tr>\n",
       "      <th>1</th>\n",
       "      <td>63375</td>\n",
       "      <td>9</td>\n",
       "      <td>1</td>\n",
       "      <td>2</td>\n",
       "      <td>6</td>\n",
       "      <td>4</td>\n",
       "      <td>10</td>\n",
       "      <td>7</td>\n",
       "      <td>7</td>\n",
       "      <td>2</td>\n",
       "      <td>Malignant</td>\n",
       "    </tr>\n",
       "    <tr>\n",
       "      <th>2</th>\n",
       "      <td>76389</td>\n",
       "      <td>10</td>\n",
       "      <td>4</td>\n",
       "      <td>7</td>\n",
       "      <td>2</td>\n",
       "      <td>2</td>\n",
       "      <td>8</td>\n",
       "      <td>6</td>\n",
       "      <td>1</td>\n",
       "      <td>1</td>\n",
       "      <td>Malignant</td>\n",
       "    </tr>\n",
       "    <tr>\n",
       "      <th>3</th>\n",
       "      <td>95719</td>\n",
       "      <td>6</td>\n",
       "      <td>10</td>\n",
       "      <td>10</td>\n",
       "      <td>10</td>\n",
       "      <td>8</td>\n",
       "      <td>10</td>\n",
       "      <td>7</td>\n",
       "      <td>10</td>\n",
       "      <td>7</td>\n",
       "      <td>Malignant</td>\n",
       "    </tr>\n",
       "    <tr>\n",
       "      <th>4</th>\n",
       "      <td>128059</td>\n",
       "      <td>1</td>\n",
       "      <td>1</td>\n",
       "      <td>1</td>\n",
       "      <td>1</td>\n",
       "      <td>2</td>\n",
       "      <td>5</td>\n",
       "      <td>5</td>\n",
       "      <td>1</td>\n",
       "      <td>1</td>\n",
       "      <td>Benign</td>\n",
       "    </tr>\n",
       "  </tbody>\n",
       "</table>\n",
       "</div>"
      ],
      "text/plain": [
       "     Code  Clump  UniCell_Size  Uni_CellShape  MargAdh  SEpith  BareN  \\\n",
       "0   61634      5             4              3        1       2      2   \n",
       "1   63375      9             1              2        6       4     10   \n",
       "2   76389     10             4              7        2       2      8   \n",
       "3   95719      6            10             10       10       8     10   \n",
       "4  128059      1             1              1        1       2      5   \n",
       "\n",
       "   BChromatin  NoemN  Mitoses      Class  \n",
       "0           2      3        1     Benign  \n",
       "1           7      7        2  Malignant  \n",
       "2           6      1        1  Malignant  \n",
       "3           7     10        7  Malignant  \n",
       "4           5      1        1     Benign  "
      ]
     },
     "execution_count": 1,
     "metadata": {},
     "output_type": "execute_result"
    }
   ],
   "source": [
    "import pandas as pd\n",
    "cancer = pd.read_csv('../Cases/Wisconsin/BreastCancer.csv')\n",
    "cancer.head()"
   ]
  },
  {
   "cell_type": "code",
   "execution_count": 4,
   "id": "0f8545a2-6d63-4c57-a9d8-6a4b1b5e81fa",
   "metadata": {},
   "outputs": [],
   "source": [
    "X, y = cancer.drop(['Code', 'Class'], axis=1), cancer['Class']"
   ]
  },
  {
   "cell_type": "code",
   "execution_count": 5,
   "id": "22538c18-d505-4f16-acee-d31a12514709",
   "metadata": {},
   "outputs": [],
   "source": [
    "from sklearn.model_selection import train_test_split\n",
    "X_train, X_test, y_train, y_test = train_test_split(X, y, test_size=0.3, random_state=24, stratify=y)"
   ]
  },
  {
   "cell_type": "code",
   "execution_count": 6,
   "id": "14da5fe4-9276-4359-8375-c0869becb387",
   "metadata": {},
   "outputs": [
    {
     "name": "stdout",
     "output_type": "stream",
     "text": [
      "accuracy_score :  0.9714285714285714\n"
     ]
    }
   ],
   "source": [
    "from sklearn.svm import SVC\n",
    "from sklearn.metrics import accuracy_score\n",
    "svm = SVC(kernel='linear')\n",
    "svm.fit(X_train, y_train)\n",
    "y_pred = svm.predict(X_test)\n",
    "print('accuracy_score : ', accuracy_score(y_test, y_pred))"
   ]
  },
  {
   "cell_type": "code",
   "execution_count": 7,
   "id": "fbe7836b-3bf5-4d57-8bc0-ba1ce9e26593",
   "metadata": {},
   "outputs": [
    {
     "name": "stdout",
     "output_type": "stream",
     "text": [
      "good value of C :  0.01\n",
      "good accuracy :  0.9714285714285714\n"
     ]
    }
   ],
   "source": [
    "import numpy as np\n",
    "c_list = np.array([0.001, 0.01, 0.1, 0.5, 1, 3, 5, 10])\n",
    "scores = []\n",
    "\n",
    "for c in c_list:\n",
    "    svm = SVC(kernel='linear', C=c)\n",
    "    svm.fit(X_train, y_train)\n",
    "    y_pred = svm.predict(X_test)\n",
    "    scores.append(accuracy_score(y_test,y_pred))\n",
    "    \n",
    "print('good value of C : ', c_list[np.argmax(scores)])\n",
    "print('good accuracy : ', np.max(scores))"
   ]
  },
  {
   "cell_type": "markdown",
   "id": "7fd87fe8-59b1-4d6e-b1a6-b9459fdcd8fe",
   "metadata": {},
   "source": [
    "### Human Resources"
   ]
  },
  {
   "cell_type": "code",
   "execution_count": 6,
   "id": "58424285-3537-45fd-bfda-2536fb3a2f85",
   "metadata": {},
   "outputs": [
    {
     "data": {
      "text/html": [
       "<div>\n",
       "<style scoped>\n",
       "    .dataframe tbody tr th:only-of-type {\n",
       "        vertical-align: middle;\n",
       "    }\n",
       "\n",
       "    .dataframe tbody tr th {\n",
       "        vertical-align: top;\n",
       "    }\n",
       "\n",
       "    .dataframe thead th {\n",
       "        text-align: right;\n",
       "    }\n",
       "</style>\n",
       "<table border=\"1\" class=\"dataframe\">\n",
       "  <thead>\n",
       "    <tr style=\"text-align: right;\">\n",
       "      <th></th>\n",
       "      <th>satisfaction_level</th>\n",
       "      <th>last_evaluation</th>\n",
       "      <th>number_project</th>\n",
       "      <th>average_montly_hours</th>\n",
       "      <th>time_spend_company</th>\n",
       "      <th>Work_accident</th>\n",
       "      <th>left</th>\n",
       "      <th>promotion_last_5years</th>\n",
       "      <th>Department</th>\n",
       "      <th>salary</th>\n",
       "    </tr>\n",
       "  </thead>\n",
       "  <tbody>\n",
       "    <tr>\n",
       "      <th>0</th>\n",
       "      <td>0.38</td>\n",
       "      <td>0.53</td>\n",
       "      <td>2</td>\n",
       "      <td>157</td>\n",
       "      <td>3</td>\n",
       "      <td>0</td>\n",
       "      <td>1</td>\n",
       "      <td>0</td>\n",
       "      <td>sales</td>\n",
       "      <td>low</td>\n",
       "    </tr>\n",
       "    <tr>\n",
       "      <th>1</th>\n",
       "      <td>0.80</td>\n",
       "      <td>0.86</td>\n",
       "      <td>5</td>\n",
       "      <td>262</td>\n",
       "      <td>6</td>\n",
       "      <td>0</td>\n",
       "      <td>1</td>\n",
       "      <td>0</td>\n",
       "      <td>sales</td>\n",
       "      <td>medium</td>\n",
       "    </tr>\n",
       "    <tr>\n",
       "      <th>2</th>\n",
       "      <td>0.10</td>\n",
       "      <td>0.77</td>\n",
       "      <td>6</td>\n",
       "      <td>247</td>\n",
       "      <td>4</td>\n",
       "      <td>0</td>\n",
       "      <td>1</td>\n",
       "      <td>0</td>\n",
       "      <td>sales</td>\n",
       "      <td>low</td>\n",
       "    </tr>\n",
       "    <tr>\n",
       "      <th>3</th>\n",
       "      <td>0.92</td>\n",
       "      <td>0.85</td>\n",
       "      <td>5</td>\n",
       "      <td>259</td>\n",
       "      <td>5</td>\n",
       "      <td>0</td>\n",
       "      <td>1</td>\n",
       "      <td>0</td>\n",
       "      <td>sales</td>\n",
       "      <td>low</td>\n",
       "    </tr>\n",
       "    <tr>\n",
       "      <th>4</th>\n",
       "      <td>0.89</td>\n",
       "      <td>1.00</td>\n",
       "      <td>5</td>\n",
       "      <td>224</td>\n",
       "      <td>5</td>\n",
       "      <td>0</td>\n",
       "      <td>1</td>\n",
       "      <td>0</td>\n",
       "      <td>sales</td>\n",
       "      <td>low</td>\n",
       "    </tr>\n",
       "  </tbody>\n",
       "</table>\n",
       "</div>"
      ],
      "text/plain": [
       "   satisfaction_level  last_evaluation  number_project  average_montly_hours  \\\n",
       "0                0.38             0.53               2                   157   \n",
       "1                0.80             0.86               5                   262   \n",
       "2                0.10             0.77               6                   247   \n",
       "3                0.92             0.85               5                   259   \n",
       "4                0.89             1.00               5                   224   \n",
       "\n",
       "   time_spend_company  Work_accident  left  promotion_last_5years Department  \\\n",
       "0                   3              0     1                      0      sales   \n",
       "1                   6              0     1                      0      sales   \n",
       "2                   4              0     1                      0      sales   \n",
       "3                   5              0     1                      0      sales   \n",
       "4                   5              0     1                      0      sales   \n",
       "\n",
       "   salary  \n",
       "0     low  \n",
       "1  medium  \n",
       "2     low  \n",
       "3     low  \n",
       "4     low  "
      ]
     },
     "execution_count": 6,
     "metadata": {},
     "output_type": "execute_result"
    }
   ],
   "source": [
    "hr = pd.read_csv('../Cases/human-resources-analytics/HR_comma_sep.csv')\n",
    "hr.head()"
   ]
  },
  {
   "cell_type": "code",
   "execution_count": 7,
   "id": "20337c19-51e3-4435-a00f-a448559325bc",
   "metadata": {},
   "outputs": [],
   "source": [
    "X, y = hr.drop('left', axis=1), hr['left']"
   ]
  },
  {
   "cell_type": "code",
   "execution_count": 8,
   "id": "4f33954c-9daa-4a5b-9548-c9aee819a999",
   "metadata": {},
   "outputs": [],
   "source": [
    "X = pd.get_dummies(X, drop_first=1)\n",
    "y = pd.get_dummies(y, drop_first=1)"
   ]
  },
  {
   "cell_type": "code",
   "execution_count": 9,
   "id": "88b0ef22-237e-4bd1-a29a-59fd72458f7f",
   "metadata": {},
   "outputs": [],
   "source": [
    "from sklearn.model_selection import train_test_split\n",
    "X_train, X_test, y_train, y_test = train_test_split(X, y, test_size=0.3, random_state=24, stratify=y)"
   ]
  },
  {
   "cell_type": "code",
   "execution_count": 10,
   "id": "270ef2c8-b789-475b-a19f-7615caeed1a4",
   "metadata": {},
   "outputs": [],
   "source": [
    "# import numpy as np\n",
    "# c_list = np.array([0.001, 1, 2])\n",
    "# scores = []\n",
    "\n",
    "# for c in c_list:\n",
    "#     svm = SVC(kernel='linear', C=c)\n",
    "#     svm.fit(X_train, y_train)\n",
    "#     y_pred = svm.predict(X_test)\n",
    "#     scores.append(accuracy_score(y_test,y_pred))\n",
    "    \n",
    "# print('good value of C : ', c_list[np.argmax(scores)])\n",
    "# print('good accuracy : ', np.max(scores))"
   ]
  },
  {
   "cell_type": "code",
   "execution_count": null,
   "id": "8521f1c5-816e-4947-b6eb-ace7f80e3d94",
   "metadata": {},
   "outputs": [
    {
     "name": "stderr",
     "output_type": "stream",
     "text": [
      "  0%|                                                                                            | 0/3 [00:00<?, ?it/s]C:\\ProgramData\\anaconda3\\Lib\\site-packages\\sklearn\\utils\\validation.py:1300: DataConversionWarning: A column-vector y was passed when a 1d array was expected. Please change the shape of y to (n_samples, ), for example using ravel().\n",
      "  y = column_or_1d(y, warn=True)\n",
      " 33%|████████████████████████████                                                        | 1/3 [00:08<00:16,  8.16s/it]C:\\ProgramData\\anaconda3\\Lib\\site-packages\\sklearn\\utils\\validation.py:1300: DataConversionWarning: A column-vector y was passed when a 1d array was expected. Please change the shape of y to (n_samples, ), for example using ravel().\n",
      "  y = column_or_1d(y, warn=True)\n"
     ]
    }
   ],
   "source": [
    "from tqdm import tqdm\n",
    "c_list = np.array([0.001, 1, 2])\n",
    "scores = []\n",
    "for i in tqdm(range(len(c_list))):\n",
    "    svm = SVC(kernel='linear', C=c_list[i])\n",
    "    svm.fit(X_train, y_train)\n",
    "    y_pred = svm.predict(X_test)\n",
    "    scores.append(accuracy_score(y_test,y_pred))\n",
    "\n",
    "print('good value of C : ', c_list[np.argmax(scores)])\n",
    "print('good accuracy : ', np.max(scores))"
   ]
  },
  {
   "cell_type": "markdown",
   "id": "f80f97be-8117-42e2-b298-297f2260d291",
   "metadata": {},
   "source": [
    "### Kyphosis"
   ]
  },
  {
   "cell_type": "code",
   "execution_count": 8,
   "id": "5526f76c-004b-4ddb-ae91-c08a46eb0848",
   "metadata": {},
   "outputs": [
    {
     "data": {
      "text/html": [
       "<div>\n",
       "<style scoped>\n",
       "    .dataframe tbody tr th:only-of-type {\n",
       "        vertical-align: middle;\n",
       "    }\n",
       "\n",
       "    .dataframe tbody tr th {\n",
       "        vertical-align: top;\n",
       "    }\n",
       "\n",
       "    .dataframe thead th {\n",
       "        text-align: right;\n",
       "    }\n",
       "</style>\n",
       "<table border=\"1\" class=\"dataframe\">\n",
       "  <thead>\n",
       "    <tr style=\"text-align: right;\">\n",
       "      <th></th>\n",
       "      <th>Kyphosis</th>\n",
       "      <th>Age</th>\n",
       "      <th>Number</th>\n",
       "      <th>Start</th>\n",
       "    </tr>\n",
       "  </thead>\n",
       "  <tbody>\n",
       "    <tr>\n",
       "      <th>0</th>\n",
       "      <td>absent</td>\n",
       "      <td>71</td>\n",
       "      <td>3</td>\n",
       "      <td>5</td>\n",
       "    </tr>\n",
       "    <tr>\n",
       "      <th>1</th>\n",
       "      <td>absent</td>\n",
       "      <td>158</td>\n",
       "      <td>3</td>\n",
       "      <td>14</td>\n",
       "    </tr>\n",
       "    <tr>\n",
       "      <th>2</th>\n",
       "      <td>present</td>\n",
       "      <td>128</td>\n",
       "      <td>4</td>\n",
       "      <td>5</td>\n",
       "    </tr>\n",
       "    <tr>\n",
       "      <th>3</th>\n",
       "      <td>absent</td>\n",
       "      <td>2</td>\n",
       "      <td>5</td>\n",
       "      <td>1</td>\n",
       "    </tr>\n",
       "    <tr>\n",
       "      <th>4</th>\n",
       "      <td>absent</td>\n",
       "      <td>1</td>\n",
       "      <td>4</td>\n",
       "      <td>15</td>\n",
       "    </tr>\n",
       "  </tbody>\n",
       "</table>\n",
       "</div>"
      ],
      "text/plain": [
       "  Kyphosis  Age  Number  Start\n",
       "0   absent   71       3      5\n",
       "1   absent  158       3     14\n",
       "2  present  128       4      5\n",
       "3   absent    2       5      1\n",
       "4   absent    1       4     15"
      ]
     },
     "execution_count": 8,
     "metadata": {},
     "output_type": "execute_result"
    }
   ],
   "source": [
    "kyphosis = pd.read_csv('../Cases/Kyphosis/Kyphosis.csv')\n",
    "kyphosis.head()"
   ]
  },
  {
   "cell_type": "code",
   "execution_count": null,
   "id": "d6fff25a-1512-47ee-a023-167746e05f30",
   "metadata": {},
   "outputs": [],
   "source": [
    "X, y = kyphosis.drop('Kyphosis', axis=1), kyphosis['Kyphosis']"
   ]
  },
  {
   "cell_type": "code",
   "execution_count": null,
   "id": "a66171eb-4313-43d8-8f7f-8474fa0e78db",
   "metadata": {},
   "outputs": [],
   "source": [
    "X = pd.get_dummies(X, drop_first=1)\n",
    "y = pd.get_dummies(y, drop_first=1)"
   ]
  },
  {
   "cell_type": "code",
   "execution_count": null,
   "id": "75627442-a13d-4b10-a6b4-20cb04e51d62",
   "metadata": {},
   "outputs": [],
   "source": [
    "from tqdm import tqdm\n",
    "c_list = np.array([0.001, 1, 2])\n",
    "scores = []\n",
    "for i in tqdm(range(len(c_list))):\n",
    "    svm = SVC(kernel='linear', C=c_list[i])\n",
    "    svm.fit(X_train, y_train)\n",
    "    y_pred = svm.predict(X_test)\n",
    "    scores.append(accuracy_score(y_test,y_pred))\n",
    "\n",
    "print('good value of C : ', c_list[np.argmax(scores)])\n",
    "print('good accuracy : ', np.max(scores))"
   ]
  },
  {
   "cell_type": "markdown",
   "id": "f338d7ff-90ed-4da2-8ca4-9aeb07346a04",
   "metadata": {},
   "source": [
    "### Scaling \n",
    "#### Standard"
   ]
  },
  {
   "cell_type": "code",
   "execution_count": null,
   "id": "117a3d40-3611-4e88-95c4-2ec53650263f",
   "metadata": {},
   "outputs": [],
   "source": [
    "from sklearn.preprocessing import StandardScaler, MinMaxScaler\n",
    "from sklearn.pipeline import Pipeline\n",
    "\n",
    "scaler = StandardScaler()\n",
    "\n",
    "c_list = np.array([0.001, 0.5, 1, 2, 3])\n",
    "scores = []\n",
    "for i in tqdm(range(len(c_list))):\n",
    "    svm = SVC(kernel='linear', C=c_list[i])\n",
    "    pipe = Pipeline([('scl', scaler), ('svm', svm)])\n",
    "    pipe.fit(X_train, y_train)\n",
    "    y_pred = pipe.predict(X_test)\n",
    "    scores.append(accuracy_score(y_test,y_pred))\n",
    "\n",
    "print('good value of C : ', c_list[np.argmax(scores)])\n",
    "print('good accuracy : ', np.max(scores))"
   ]
  },
  {
   "cell_type": "markdown",
   "id": "11824cd3-0acb-432d-a8a3-ff43fa201d28",
   "metadata": {},
   "source": [
    "#### MinMax"
   ]
  },
  {
   "cell_type": "code",
   "execution_count": null,
   "id": "fc04ccfe-3960-4ab3-90a7-6d118a55d35a",
   "metadata": {},
   "outputs": [],
   "source": [
    "from sklearn.preprocessing import StandardScaler, MinMaxScaler\n",
    "from sklearn.pipeline import Pipeline\n",
    "\n",
    "scaler = MinMaxScaler()\n",
    "\n",
    "c_list = np.array([0.001, 0.5, 1, 2, 3])\n",
    "scores = []\n",
    "for i in tqdm(range(len(c_list))):\n",
    "    svm = SVC(kernel='linear', C=c_list[i])\n",
    "    pipe = Pipeline([('scl', scaler), ('svm', svm)])\n",
    "    pipe.fit(X_train, y_train)\n",
    "    y_pred = pipe.predict(X_test)\n",
    "    scores.append(accuracy_score(y_test,y_pred))\n",
    "\n",
    "print('good value of C : ', c_list[np.argmax(scores)])\n",
    "print('good accuracy : ', np.max(scores))"
   ]
  },
  {
   "cell_type": "markdown",
   "id": "1dbbc2e9-ac8b-4d8f-9b1f-04364328bb25",
   "metadata": {},
   "source": [
    "### Radial"
   ]
  },
  {
   "cell_type": "markdown",
   "id": "16aebbc3-ddc8-430a-b37c-8c3a836811f8",
   "metadata": {},
   "source": [
    "### Hyper-Parameter Optimization with `C` and `gamma`"
   ]
  },
  {
   "cell_type": "code",
   "execution_count": 52,
   "id": "b44a55b5-4b70-4c10-9373-0da3451d9021",
   "metadata": {
    "scrolled": true
   },
   "outputs": [],
   "source": [
    "c_list = [0.001, 0.5, 1, 2, 3]\n",
    "gamma_list = [0.001, 0.5, 1, 2, 3]\n",
    "\n",
    "scaler = MinMaxScaler()\n",
    "scores = []\n",
    "for c in c_list:\n",
    "    for g in gamma_list:\n",
    "        svm = SVC(kernel='rbf', C=c, gamma=g)\n",
    "        pipe = Pipeline([('scl', scaler), ('svm', svm)])\n",
    "        pipe.fit(X_train, y_train)\n",
    "        y_pred = pipe.predict(X_test)\n",
    "        scores.append([c, g, accuracy_score(y_test,y_pred)])"
   ]
  },
  {
   "cell_type": "code",
   "execution_count": 53,
   "id": "1419e456-4006-4856-b47d-9598ab26ea00",
   "metadata": {},
   "outputs": [],
   "source": [
    "df_scores=pd.DataFrame(scores, columns=['c', 'gamma', 'accuracy_score'])\n",
    "best_combo = df_scores.sort_values('accuracy_score', ascending=False).iloc[0]"
   ]
  },
  {
   "cell_type": "code",
   "execution_count": 54,
   "id": "98724af2-02d8-4b9a-be20-9606a26e20a6",
   "metadata": {},
   "outputs": [
    {
     "name": "stdout",
     "output_type": "stream",
     "text": [
      "Best c : 3.0\n",
      "Best gamma : 0.5\n",
      "Best score : 0.8889\n"
     ]
    },
    {
     "name": "stderr",
     "output_type": "stream",
     "text": [
      "C:\\Users\\dbda.STUDENTSDC\\AppData\\Local\\Temp\\ipykernel_9664\\1580168429.py:1: FutureWarning: Series.__getitem__ treating keys as positions is deprecated. In a future version, integer keys will always be treated as labels (consistent with DataFrame behavior). To access a value by position, use `ser.iloc[pos]`\n",
      "  best_c = best_combo[0]\n",
      "C:\\Users\\dbda.STUDENTSDC\\AppData\\Local\\Temp\\ipykernel_9664\\1580168429.py:2: FutureWarning: Series.__getitem__ treating keys as positions is deprecated. In a future version, integer keys will always be treated as labels (consistent with DataFrame behavior). To access a value by position, use `ser.iloc[pos]`\n",
      "  best_gamma = best_combo[1]\n",
      "C:\\Users\\dbda.STUDENTSDC\\AppData\\Local\\Temp\\ipykernel_9664\\1580168429.py:3: FutureWarning: Series.__getitem__ treating keys as positions is deprecated. In a future version, integer keys will always be treated as labels (consistent with DataFrame behavior). To access a value by position, use `ser.iloc[pos]`\n",
      "  best_score = best_combo[2]\n"
     ]
    }
   ],
   "source": [
    "best_c = best_combo[0]\n",
    "best_gamma = best_combo[1]\n",
    "best_score = best_combo[2]\n",
    "print(f'Best c : {best_c}')\n",
    "print(f'Best gamma : {best_gamma}')\n",
    "print(f'Best score : {best_score:.4f}')"
   ]
  },
  {
   "cell_type": "code",
   "execution_count": null,
   "id": "b7b9b06a-3ed5-42b4-8006-5598c71f12a7",
   "metadata": {
    "scrolled": true
   },
   "outputs": [],
   "source": [
    "from sklearn.metrics import f1_score\n",
    "c_list = np.linspace(0.001, 4, 10)           # [0.001, 0.5, 1, 2, 3]\n",
    "gamma_list = np.linspace(0.001, 4, 10)        # [0.001, 0.5, 1, 2, 3]\n",
    "\n",
    "scaler = MinMaxScaler()\n",
    "f1_scores = []\n",
    "for c in c_lis):\n",
    "    for g in gamma_list:\n",
    "        svm = SVC(kernel='linear', C=c, gamma=g)\n",
    "        pipe = Pipeline([('scl', scaler), ('svm', svm)])\n",
    "        pipe.fit(X_train, y_train)\n",
    "        y_pred = pipe.predict(X_test)\n",
    "        f1_scores.append([c, g, f1_score(y_test,y_pred,p)])"
   ]
  },
  {
   "cell_type": "code",
   "execution_count": null,
   "id": "b207768e-b1d6-474c-b739-61687f275ac1",
   "metadata": {},
   "outputs": [],
   "source": [
    "df_scores=pd.DataFrame(scores, columns=['c', 'gamma', 'accuracy_score'])\n",
    "best_combo = df_scores.sort_values('accuracy_score', ascending=False).iloc[0]\n",
    "best_c = best_combo[0]\n",
    "best_gamma = best_combo[1]\n",
    "best_f1_score = best_combo[2]\n",
    "print(f'Best c : {best_c}')\n",
    "print(f'Best gamma : {best_gamma}')\n",
    "print(f'Best f1_score : {best_f1_score:.4f}')"
   ]
  },
  {
   "cell_type": "markdown",
   "id": "e18ad6b6-0bc7-4259-af46-a2d0ab948521",
   "metadata": {},
   "source": [
    "### Sonar"
   ]
  },
  {
   "cell_type": "code",
   "execution_count": 40,
   "id": "bc4f6190-7aab-4675-b097-d238922d126f",
   "metadata": {},
   "outputs": [
    {
     "data": {
      "text/plain": [
       "'1.4.2'"
      ]
     },
     "execution_count": 40,
     "metadata": {},
     "output_type": "execute_result"
    }
   ],
   "source": [
    "import sklearn\n",
    "sklearn.__version__"
   ]
  },
  {
   "cell_type": "code",
   "execution_count": 35,
   "id": "b1ec45b1-8cfe-48a4-8be9-9df3bf87bd40",
   "metadata": {},
   "outputs": [
    {
     "data": {
      "text/html": [
       "<div>\n",
       "<style scoped>\n",
       "    .dataframe tbody tr th:only-of-type {\n",
       "        vertical-align: middle;\n",
       "    }\n",
       "\n",
       "    .dataframe tbody tr th {\n",
       "        vertical-align: top;\n",
       "    }\n",
       "\n",
       "    .dataframe thead th {\n",
       "        text-align: right;\n",
       "    }\n",
       "</style>\n",
       "<table border=\"1\" class=\"dataframe\">\n",
       "  <thead>\n",
       "    <tr style=\"text-align: right;\">\n",
       "      <th></th>\n",
       "      <th>V1</th>\n",
       "      <th>V2</th>\n",
       "      <th>V3</th>\n",
       "      <th>V4</th>\n",
       "      <th>V5</th>\n",
       "      <th>V6</th>\n",
       "      <th>V7</th>\n",
       "      <th>V8</th>\n",
       "      <th>V9</th>\n",
       "      <th>V10</th>\n",
       "      <th>...</th>\n",
       "      <th>V52</th>\n",
       "      <th>V53</th>\n",
       "      <th>V54</th>\n",
       "      <th>V55</th>\n",
       "      <th>V56</th>\n",
       "      <th>V57</th>\n",
       "      <th>V58</th>\n",
       "      <th>V59</th>\n",
       "      <th>V60</th>\n",
       "      <th>Class</th>\n",
       "    </tr>\n",
       "  </thead>\n",
       "  <tbody>\n",
       "    <tr>\n",
       "      <th>0</th>\n",
       "      <td>0.0200</td>\n",
       "      <td>0.0371</td>\n",
       "      <td>0.0428</td>\n",
       "      <td>0.0207</td>\n",
       "      <td>0.0954</td>\n",
       "      <td>0.0986</td>\n",
       "      <td>0.1539</td>\n",
       "      <td>0.1601</td>\n",
       "      <td>0.3109</td>\n",
       "      <td>0.2111</td>\n",
       "      <td>...</td>\n",
       "      <td>0.0027</td>\n",
       "      <td>0.0065</td>\n",
       "      <td>0.0159</td>\n",
       "      <td>0.0072</td>\n",
       "      <td>0.0167</td>\n",
       "      <td>0.0180</td>\n",
       "      <td>0.0084</td>\n",
       "      <td>0.0090</td>\n",
       "      <td>0.0032</td>\n",
       "      <td>R</td>\n",
       "    </tr>\n",
       "    <tr>\n",
       "      <th>1</th>\n",
       "      <td>0.0453</td>\n",
       "      <td>0.0523</td>\n",
       "      <td>0.0843</td>\n",
       "      <td>0.0689</td>\n",
       "      <td>0.1183</td>\n",
       "      <td>0.2583</td>\n",
       "      <td>0.2156</td>\n",
       "      <td>0.3481</td>\n",
       "      <td>0.3337</td>\n",
       "      <td>0.2872</td>\n",
       "      <td>...</td>\n",
       "      <td>0.0084</td>\n",
       "      <td>0.0089</td>\n",
       "      <td>0.0048</td>\n",
       "      <td>0.0094</td>\n",
       "      <td>0.0191</td>\n",
       "      <td>0.0140</td>\n",
       "      <td>0.0049</td>\n",
       "      <td>0.0052</td>\n",
       "      <td>0.0044</td>\n",
       "      <td>R</td>\n",
       "    </tr>\n",
       "    <tr>\n",
       "      <th>2</th>\n",
       "      <td>0.0262</td>\n",
       "      <td>0.0582</td>\n",
       "      <td>0.1099</td>\n",
       "      <td>0.1083</td>\n",
       "      <td>0.0974</td>\n",
       "      <td>0.2280</td>\n",
       "      <td>0.2431</td>\n",
       "      <td>0.3771</td>\n",
       "      <td>0.5598</td>\n",
       "      <td>0.6194</td>\n",
       "      <td>...</td>\n",
       "      <td>0.0232</td>\n",
       "      <td>0.0166</td>\n",
       "      <td>0.0095</td>\n",
       "      <td>0.0180</td>\n",
       "      <td>0.0244</td>\n",
       "      <td>0.0316</td>\n",
       "      <td>0.0164</td>\n",
       "      <td>0.0095</td>\n",
       "      <td>0.0078</td>\n",
       "      <td>R</td>\n",
       "    </tr>\n",
       "    <tr>\n",
       "      <th>3</th>\n",
       "      <td>0.0100</td>\n",
       "      <td>0.0171</td>\n",
       "      <td>0.0623</td>\n",
       "      <td>0.0205</td>\n",
       "      <td>0.0205</td>\n",
       "      <td>0.0368</td>\n",
       "      <td>0.1098</td>\n",
       "      <td>0.1276</td>\n",
       "      <td>0.0598</td>\n",
       "      <td>0.1264</td>\n",
       "      <td>...</td>\n",
       "      <td>0.0121</td>\n",
       "      <td>0.0036</td>\n",
       "      <td>0.0150</td>\n",
       "      <td>0.0085</td>\n",
       "      <td>0.0073</td>\n",
       "      <td>0.0050</td>\n",
       "      <td>0.0044</td>\n",
       "      <td>0.0040</td>\n",
       "      <td>0.0117</td>\n",
       "      <td>R</td>\n",
       "    </tr>\n",
       "    <tr>\n",
       "      <th>4</th>\n",
       "      <td>0.0762</td>\n",
       "      <td>0.0666</td>\n",
       "      <td>0.0481</td>\n",
       "      <td>0.0394</td>\n",
       "      <td>0.0590</td>\n",
       "      <td>0.0649</td>\n",
       "      <td>0.1209</td>\n",
       "      <td>0.2467</td>\n",
       "      <td>0.3564</td>\n",
       "      <td>0.4459</td>\n",
       "      <td>...</td>\n",
       "      <td>0.0031</td>\n",
       "      <td>0.0054</td>\n",
       "      <td>0.0105</td>\n",
       "      <td>0.0110</td>\n",
       "      <td>0.0015</td>\n",
       "      <td>0.0072</td>\n",
       "      <td>0.0048</td>\n",
       "      <td>0.0107</td>\n",
       "      <td>0.0094</td>\n",
       "      <td>R</td>\n",
       "    </tr>\n",
       "  </tbody>\n",
       "</table>\n",
       "<p>5 rows × 61 columns</p>\n",
       "</div>"
      ],
      "text/plain": [
       "       V1      V2      V3      V4      V5      V6      V7      V8      V9  \\\n",
       "0  0.0200  0.0371  0.0428  0.0207  0.0954  0.0986  0.1539  0.1601  0.3109   \n",
       "1  0.0453  0.0523  0.0843  0.0689  0.1183  0.2583  0.2156  0.3481  0.3337   \n",
       "2  0.0262  0.0582  0.1099  0.1083  0.0974  0.2280  0.2431  0.3771  0.5598   \n",
       "3  0.0100  0.0171  0.0623  0.0205  0.0205  0.0368  0.1098  0.1276  0.0598   \n",
       "4  0.0762  0.0666  0.0481  0.0394  0.0590  0.0649  0.1209  0.2467  0.3564   \n",
       "\n",
       "      V10  ...     V52     V53     V54     V55     V56     V57     V58  \\\n",
       "0  0.2111  ...  0.0027  0.0065  0.0159  0.0072  0.0167  0.0180  0.0084   \n",
       "1  0.2872  ...  0.0084  0.0089  0.0048  0.0094  0.0191  0.0140  0.0049   \n",
       "2  0.6194  ...  0.0232  0.0166  0.0095  0.0180  0.0244  0.0316  0.0164   \n",
       "3  0.1264  ...  0.0121  0.0036  0.0150  0.0085  0.0073  0.0050  0.0044   \n",
       "4  0.4459  ...  0.0031  0.0054  0.0105  0.0110  0.0015  0.0072  0.0048   \n",
       "\n",
       "      V59     V60  Class  \n",
       "0  0.0090  0.0032      R  \n",
       "1  0.0052  0.0044      R  \n",
       "2  0.0095  0.0078      R  \n",
       "3  0.0040  0.0117      R  \n",
       "4  0.0107  0.0094      R  \n",
       "\n",
       "[5 rows x 61 columns]"
      ]
     },
     "execution_count": 35,
     "metadata": {},
     "output_type": "execute_result"
    }
   ],
   "source": [
    "import pandas as pd\n",
    "sonar = pd.read_csv('../Cases/Sonar/Sonar.csv')\n",
    "sonar.head()"
   ]
  },
  {
   "cell_type": "code",
   "execution_count": 36,
   "id": "20a5c476-26f7-4a0d-9593-a66a2211e81f",
   "metadata": {},
   "outputs": [],
   "source": [
    "X, y = sonar.drop('Class', axis=1), sonar['Class']"
   ]
  },
  {
   "cell_type": "code",
   "execution_count": 37,
   "id": "e147a185-42aa-4304-b76e-0226b0954eaf",
   "metadata": {},
   "outputs": [],
   "source": [
    "from sklearn.model_selection import train_test_split\n",
    "X_train, X_test, y_train, y_test = train_test_split(X, y, test_size=0.3, random_state=24, stratify=y)"
   ]
  },
  {
   "cell_type": "code",
   "execution_count": 38,
   "id": "6d3372b4-dce9-4253-a97c-06ab55c6f57f",
   "metadata": {
    "scrolled": true
   },
   "outputs": [],
   "source": [
    "import numpy as np\n",
    "from sklearn.svm import SVC\n",
    "from sklearn.metrics import f1_score\n",
    "\n",
    "c_list = np.linspace(0.001, 4, 10)           # [0.001, 0.5, 1, 2, 3]\n",
    "gamma_list = np.linspace(0.001, 4, 10)        # [0.001, 0.5, 1, 2, 3]\n",
    "f1_scores = []\n",
    "for c in c_list:\n",
    "    for g in gamma_list:\n",
    "        svm = SVC(kernel='linear', C=c, gamma=g)\n",
    "        svm.fit(X_train, y_train)\n",
    "        y_pred = svm.predict(X_test)\n",
    "        f1_scores.append([c, g, f1_score(y_test,y_pred, pos_label='R')])\n"
   ]
  },
  {
   "cell_type": "code",
   "execution_count": 39,
   "id": "2433955c-8fb2-4abc-9569-143e25734134",
   "metadata": {},
   "outputs": [
    {
     "name": "stdout",
     "output_type": "stream",
     "text": [
      "Best c : 1.334\n",
      "Best gamma : 4.0\n",
      "Best f1_score : 0.7812\n"
     ]
    },
    {
     "name": "stderr",
     "output_type": "stream",
     "text": [
      "C:\\Users\\dbda.STUDENTSDC\\AppData\\Local\\Temp\\ipykernel_9664\\3946953444.py:3: FutureWarning: Series.__getitem__ treating keys as positions is deprecated. In a future version, integer keys will always be treated as labels (consistent with DataFrame behavior). To access a value by position, use `ser.iloc[pos]`\n",
      "  best_c = best_combo[0]\n",
      "C:\\Users\\dbda.STUDENTSDC\\AppData\\Local\\Temp\\ipykernel_9664\\3946953444.py:4: FutureWarning: Series.__getitem__ treating keys as positions is deprecated. In a future version, integer keys will always be treated as labels (consistent with DataFrame behavior). To access a value by position, use `ser.iloc[pos]`\n",
      "  best_gamma = best_combo[1]\n",
      "C:\\Users\\dbda.STUDENTSDC\\AppData\\Local\\Temp\\ipykernel_9664\\3946953444.py:5: FutureWarning: Series.__getitem__ treating keys as positions is deprecated. In a future version, integer keys will always be treated as labels (consistent with DataFrame behavior). To access a value by position, use `ser.iloc[pos]`\n",
      "  best_f1_score = best_combo[2]\n"
     ]
    }
   ],
   "source": [
    "df_scores=pd.DataFrame(f1_scores, columns=['c', 'gamma', 'F1'])\n",
    "best_combo = df_scores.sort_values('F1', ascending=False).iloc[0]\n",
    "best_c = best_combo[0]\n",
    "best_gamma = best_combo[1]\n",
    "best_f1_score = best_combo[2]\n",
    "print(f'Best c : {best_c}')\n",
    "print(f'Best gamma : {best_gamma}')\n",
    "print(f'Best f1_score : {best_f1_score:.4f}')"
   ]
  },
  {
   "cell_type": "code",
   "execution_count": 47,
   "id": "2d329683-5091-4f4f-b302-818b24d91906",
   "metadata": {},
   "outputs": [],
   "source": [
    "import numpy as np\n",
    "from sklearn.svm import SVC\n",
    "from sklearn.metrics import f1_score\n",
    "from sklearn.preprocessing import MinMaxScaler\n",
    "from sklearn.pipeline import Pipeline\n",
    "\n",
    "scaler = MinMaxScaler()\n",
    "c_list = np.linspace(0.001, 4, 10)           # [0.001, 0.5, 1, 2, 3]\n",
    "degree_list = [2,3,4]        # [0.001, 0.5, 1, 2, 3]\n",
    "f1_scores = []\n",
    "for c in c_list:\n",
    "    for d in degree_list:\n",
    "        svm = SVC(kernel='poly', C=c, degree=d)\n",
    "        pipe = Pipeline([('scl', scaler), ('svm', svm)])\n",
    "        pipe.fit(X_train, y_train)\n",
    "        y_pred = pipe.predict(X_test)\n",
    "        f1_scores.append([c, d, f1_score(y_test,y_pred, pos_label='R')])"
   ]
  },
  {
   "cell_type": "code",
   "execution_count": 48,
   "id": "9d295508-e16c-42a5-8072-f5476b92cb95",
   "metadata": {},
   "outputs": [
    {
     "name": "stdout",
     "output_type": "stream",
     "text": [
      "Best c : 3.5556666666666668\n",
      "Best gamma : 2.0\n",
      "Best f1_score : 0.8421\n"
     ]
    },
    {
     "name": "stderr",
     "output_type": "stream",
     "text": [
      "C:\\Users\\dbda.STUDENTSDC\\AppData\\Local\\Temp\\ipykernel_9664\\3946953444.py:3: FutureWarning: Series.__getitem__ treating keys as positions is deprecated. In a future version, integer keys will always be treated as labels (consistent with DataFrame behavior). To access a value by position, use `ser.iloc[pos]`\n",
      "  best_c = best_combo[0]\n",
      "C:\\Users\\dbda.STUDENTSDC\\AppData\\Local\\Temp\\ipykernel_9664\\3946953444.py:4: FutureWarning: Series.__getitem__ treating keys as positions is deprecated. In a future version, integer keys will always be treated as labels (consistent with DataFrame behavior). To access a value by position, use `ser.iloc[pos]`\n",
      "  best_gamma = best_combo[1]\n",
      "C:\\Users\\dbda.STUDENTSDC\\AppData\\Local\\Temp\\ipykernel_9664\\3946953444.py:5: FutureWarning: Series.__getitem__ treating keys as positions is deprecated. In a future version, integer keys will always be treated as labels (consistent with DataFrame behavior). To access a value by position, use `ser.iloc[pos]`\n",
      "  best_f1_score = best_combo[2]\n"
     ]
    }
   ],
   "source": [
    "df_scores=pd.DataFrame(f1_scores, columns=['c', 'gamma', 'F1'])\n",
    "best_combo = df_scores.sort_values('F1', ascending=False).iloc[0]\n",
    "best_c = best_combo[0]\n",
    "best_gamma = best_combo[1]\n",
    "best_f1_score = best_combo[2]\n",
    "print(f'Best c : {best_c}')\n",
    "print(f'Best gamma : {best_gamma}')\n",
    "print(f'Best f1_score : {best_f1_score:.4f}')"
   ]
  },
  {
   "cell_type": "markdown",
   "id": "635787f3-3a84-40a3-9a24-0da8ffa24d3f",
   "metadata": {},
   "source": [
    "###"
   ]
  }
 ],
 "metadata": {
  "kernelspec": {
   "display_name": "Python 3 (ipykernel)",
   "language": "python",
   "name": "python3"
  },
  "language_info": {
   "codemirror_mode": {
    "name": "ipython",
    "version": 3
   },
   "file_extension": ".py",
   "mimetype": "text/x-python",
   "name": "python",
   "nbconvert_exporter": "python",
   "pygments_lexer": "ipython3",
   "version": "3.12.4"
  }
 },
 "nbformat": 4,
 "nbformat_minor": 5
}
