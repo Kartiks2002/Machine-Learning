{
 "cells": [
  {
   "cell_type": "code",
   "execution_count": 1,
   "id": "d4d56cab-d7ce-4cf2-95e6-03f6ce67f725",
   "metadata": {},
   "outputs": [
    {
     "data": {
      "text/html": [
       "<div>\n",
       "<style scoped>\n",
       "    .dataframe tbody tr th:only-of-type {\n",
       "        vertical-align: middle;\n",
       "    }\n",
       "\n",
       "    .dataframe tbody tr th {\n",
       "        vertical-align: top;\n",
       "    }\n",
       "\n",
       "    .dataframe thead th {\n",
       "        text-align: right;\n",
       "    }\n",
       "</style>\n",
       "<table border=\"1\" class=\"dataframe\">\n",
       "  <thead>\n",
       "    <tr style=\"text-align: right;\">\n",
       "      <th></th>\n",
       "      <th>Yield</th>\n",
       "      <th>BiologicalMaterial01</th>\n",
       "      <th>BiologicalMaterial02</th>\n",
       "      <th>BiologicalMaterial03</th>\n",
       "      <th>BiologicalMaterial04</th>\n",
       "      <th>BiologicalMaterial05</th>\n",
       "      <th>BiologicalMaterial06</th>\n",
       "      <th>BiologicalMaterial07</th>\n",
       "      <th>BiologicalMaterial08</th>\n",
       "      <th>BiologicalMaterial09</th>\n",
       "      <th>...</th>\n",
       "      <th>ManufacturingProcess36</th>\n",
       "      <th>ManufacturingProcess37</th>\n",
       "      <th>ManufacturingProcess38</th>\n",
       "      <th>ManufacturingProcess39</th>\n",
       "      <th>ManufacturingProcess40</th>\n",
       "      <th>ManufacturingProcess41</th>\n",
       "      <th>ManufacturingProcess42</th>\n",
       "      <th>ManufacturingProcess43</th>\n",
       "      <th>ManufacturingProcess44</th>\n",
       "      <th>ManufacturingProcess45</th>\n",
       "    </tr>\n",
       "  </thead>\n",
       "  <tbody>\n",
       "    <tr>\n",
       "      <th>0</th>\n",
       "      <td>38.00</td>\n",
       "      <td>6.25</td>\n",
       "      <td>49.58</td>\n",
       "      <td>56.97</td>\n",
       "      <td>12.74</td>\n",
       "      <td>19.51</td>\n",
       "      <td>43.73</td>\n",
       "      <td>100.0</td>\n",
       "      <td>16.66</td>\n",
       "      <td>11.44</td>\n",
       "      <td>...</td>\n",
       "      <td>0.019</td>\n",
       "      <td>0.5</td>\n",
       "      <td>3</td>\n",
       "      <td>7.2</td>\n",
       "      <td>NaN</td>\n",
       "      <td>NaN</td>\n",
       "      <td>11.6</td>\n",
       "      <td>3.0</td>\n",
       "      <td>1.8</td>\n",
       "      <td>2.4</td>\n",
       "    </tr>\n",
       "    <tr>\n",
       "      <th>1</th>\n",
       "      <td>42.44</td>\n",
       "      <td>8.01</td>\n",
       "      <td>60.97</td>\n",
       "      <td>67.48</td>\n",
       "      <td>14.65</td>\n",
       "      <td>19.36</td>\n",
       "      <td>53.14</td>\n",
       "      <td>100.0</td>\n",
       "      <td>19.04</td>\n",
       "      <td>12.55</td>\n",
       "      <td>...</td>\n",
       "      <td>0.019</td>\n",
       "      <td>2.0</td>\n",
       "      <td>2</td>\n",
       "      <td>7.2</td>\n",
       "      <td>0.1</td>\n",
       "      <td>0.15</td>\n",
       "      <td>11.1</td>\n",
       "      <td>0.9</td>\n",
       "      <td>1.9</td>\n",
       "      <td>2.2</td>\n",
       "    </tr>\n",
       "    <tr>\n",
       "      <th>2</th>\n",
       "      <td>42.03</td>\n",
       "      <td>8.01</td>\n",
       "      <td>60.97</td>\n",
       "      <td>67.48</td>\n",
       "      <td>14.65</td>\n",
       "      <td>19.36</td>\n",
       "      <td>53.14</td>\n",
       "      <td>100.0</td>\n",
       "      <td>19.04</td>\n",
       "      <td>12.55</td>\n",
       "      <td>...</td>\n",
       "      <td>0.018</td>\n",
       "      <td>0.7</td>\n",
       "      <td>2</td>\n",
       "      <td>7.2</td>\n",
       "      <td>0.0</td>\n",
       "      <td>0.00</td>\n",
       "      <td>12.0</td>\n",
       "      <td>1.0</td>\n",
       "      <td>1.8</td>\n",
       "      <td>2.3</td>\n",
       "    </tr>\n",
       "    <tr>\n",
       "      <th>3</th>\n",
       "      <td>41.42</td>\n",
       "      <td>8.01</td>\n",
       "      <td>60.97</td>\n",
       "      <td>67.48</td>\n",
       "      <td>14.65</td>\n",
       "      <td>19.36</td>\n",
       "      <td>53.14</td>\n",
       "      <td>100.0</td>\n",
       "      <td>19.04</td>\n",
       "      <td>12.55</td>\n",
       "      <td>...</td>\n",
       "      <td>0.018</td>\n",
       "      <td>1.2</td>\n",
       "      <td>2</td>\n",
       "      <td>7.2</td>\n",
       "      <td>0.0</td>\n",
       "      <td>0.00</td>\n",
       "      <td>10.6</td>\n",
       "      <td>1.1</td>\n",
       "      <td>1.8</td>\n",
       "      <td>2.1</td>\n",
       "    </tr>\n",
       "    <tr>\n",
       "      <th>4</th>\n",
       "      <td>42.49</td>\n",
       "      <td>7.47</td>\n",
       "      <td>63.33</td>\n",
       "      <td>72.25</td>\n",
       "      <td>14.02</td>\n",
       "      <td>17.91</td>\n",
       "      <td>54.66</td>\n",
       "      <td>100.0</td>\n",
       "      <td>18.22</td>\n",
       "      <td>12.80</td>\n",
       "      <td>...</td>\n",
       "      <td>0.017</td>\n",
       "      <td>0.2</td>\n",
       "      <td>2</td>\n",
       "      <td>7.3</td>\n",
       "      <td>0.0</td>\n",
       "      <td>0.00</td>\n",
       "      <td>11.0</td>\n",
       "      <td>1.1</td>\n",
       "      <td>1.7</td>\n",
       "      <td>2.1</td>\n",
       "    </tr>\n",
       "  </tbody>\n",
       "</table>\n",
       "<p>5 rows × 58 columns</p>\n",
       "</div>"
      ],
      "text/plain": [
       "   Yield  BiologicalMaterial01  BiologicalMaterial02  BiologicalMaterial03  \\\n",
       "0  38.00                  6.25                 49.58                 56.97   \n",
       "1  42.44                  8.01                 60.97                 67.48   \n",
       "2  42.03                  8.01                 60.97                 67.48   \n",
       "3  41.42                  8.01                 60.97                 67.48   \n",
       "4  42.49                  7.47                 63.33                 72.25   \n",
       "\n",
       "   BiologicalMaterial04  BiologicalMaterial05  BiologicalMaterial06  \\\n",
       "0                 12.74                 19.51                 43.73   \n",
       "1                 14.65                 19.36                 53.14   \n",
       "2                 14.65                 19.36                 53.14   \n",
       "3                 14.65                 19.36                 53.14   \n",
       "4                 14.02                 17.91                 54.66   \n",
       "\n",
       "   BiologicalMaterial07  BiologicalMaterial08  BiologicalMaterial09  ...  \\\n",
       "0                 100.0                 16.66                 11.44  ...   \n",
       "1                 100.0                 19.04                 12.55  ...   \n",
       "2                 100.0                 19.04                 12.55  ...   \n",
       "3                 100.0                 19.04                 12.55  ...   \n",
       "4                 100.0                 18.22                 12.80  ...   \n",
       "\n",
       "   ManufacturingProcess36  ManufacturingProcess37  ManufacturingProcess38  \\\n",
       "0                   0.019                     0.5                       3   \n",
       "1                   0.019                     2.0                       2   \n",
       "2                   0.018                     0.7                       2   \n",
       "3                   0.018                     1.2                       2   \n",
       "4                   0.017                     0.2                       2   \n",
       "\n",
       "   ManufacturingProcess39  ManufacturingProcess40  ManufacturingProcess41  \\\n",
       "0                     7.2                     NaN                     NaN   \n",
       "1                     7.2                     0.1                    0.15   \n",
       "2                     7.2                     0.0                    0.00   \n",
       "3                     7.2                     0.0                    0.00   \n",
       "4                     7.3                     0.0                    0.00   \n",
       "\n",
       "   ManufacturingProcess42  ManufacturingProcess43  ManufacturingProcess44  \\\n",
       "0                    11.6                     3.0                     1.8   \n",
       "1                    11.1                     0.9                     1.9   \n",
       "2                    12.0                     1.0                     1.8   \n",
       "3                    10.6                     1.1                     1.8   \n",
       "4                    11.0                     1.1                     1.7   \n",
       "\n",
       "   ManufacturingProcess45  \n",
       "0                     2.4  \n",
       "1                     2.2  \n",
       "2                     2.3  \n",
       "3                     2.1  \n",
       "4                     2.1  \n",
       "\n",
       "[5 rows x 58 columns]"
      ]
     },
     "execution_count": 1,
     "metadata": {},
     "output_type": "execute_result"
    }
   ],
   "source": [
    "import pandas as pd\n",
    "df = pd.read_csv('ChemicalProcess.csv')\n",
    "df.head()"
   ]
  },
  {
   "cell_type": "code",
   "execution_count": 2,
   "id": "1a5cd33d-5ddc-4309-bcc4-0c77c8d33e9c",
   "metadata": {},
   "outputs": [
    {
     "data": {
      "text/plain": [
       "Yield                      0\n",
       "BiologicalMaterial01       0\n",
       "BiologicalMaterial02       0\n",
       "BiologicalMaterial03       0\n",
       "BiologicalMaterial04       0\n",
       "BiologicalMaterial05       0\n",
       "BiologicalMaterial06       0\n",
       "BiologicalMaterial07       0\n",
       "BiologicalMaterial08       0\n",
       "BiologicalMaterial09       0\n",
       "BiologicalMaterial10       0\n",
       "BiologicalMaterial11       0\n",
       "BiologicalMaterial12       0\n",
       "ManufacturingProcess01     1\n",
       "ManufacturingProcess02     3\n",
       "ManufacturingProcess03    15\n",
       "ManufacturingProcess04     1\n",
       "ManufacturingProcess05     1\n",
       "ManufacturingProcess06     2\n",
       "ManufacturingProcess07     1\n",
       "ManufacturingProcess08     1\n",
       "ManufacturingProcess09     0\n",
       "ManufacturingProcess10     9\n",
       "ManufacturingProcess11    10\n",
       "ManufacturingProcess12     1\n",
       "ManufacturingProcess13     0\n",
       "ManufacturingProcess14     1\n",
       "ManufacturingProcess15     0\n",
       "ManufacturingProcess16     0\n",
       "ManufacturingProcess17     0\n",
       "ManufacturingProcess18     0\n",
       "ManufacturingProcess19     0\n",
       "ManufacturingProcess20     0\n",
       "ManufacturingProcess21     0\n",
       "ManufacturingProcess22     1\n",
       "ManufacturingProcess23     1\n",
       "ManufacturingProcess24     1\n",
       "ManufacturingProcess25     5\n",
       "ManufacturingProcess26     5\n",
       "ManufacturingProcess27     5\n",
       "ManufacturingProcess28     5\n",
       "ManufacturingProcess29     5\n",
       "ManufacturingProcess30     5\n",
       "ManufacturingProcess31     5\n",
       "ManufacturingProcess32     0\n",
       "ManufacturingProcess33     5\n",
       "ManufacturingProcess34     5\n",
       "ManufacturingProcess35     5\n",
       "ManufacturingProcess36     5\n",
       "ManufacturingProcess37     0\n",
       "ManufacturingProcess38     0\n",
       "ManufacturingProcess39     0\n",
       "ManufacturingProcess40     1\n",
       "ManufacturingProcess41     1\n",
       "ManufacturingProcess42     0\n",
       "ManufacturingProcess43     0\n",
       "ManufacturingProcess44     0\n",
       "ManufacturingProcess45     0\n",
       "dtype: int64"
      ]
     },
     "execution_count": 2,
     "metadata": {},
     "output_type": "execute_result"
    }
   ],
   "source": [
    "df.isna().sum()"
   ]
  },
  {
   "cell_type": "markdown",
   "id": "eea5d931-b353-4361-be51-87803b7c4ebc",
   "metadata": {},
   "source": [
    "### Imputing mean"
   ]
  },
  {
   "cell_type": "code",
   "execution_count": 3,
   "id": "3e3c3b28-71b8-47a4-9688-c0449f2215de",
   "metadata": {},
   "outputs": [],
   "source": [
    "from sklearn.impute import SimpleImputer\n",
    "imp = SimpleImputer(strategy='mean').set_output(transform='pandas')\n",
    "df2 = imp.fit_transform(df)"
   ]
  },
  {
   "cell_type": "code",
   "execution_count": 9,
   "id": "db4e2ff2-f7e4-4a71-9945-9b8baf15e812",
   "metadata": {},
   "outputs": [],
   "source": [
    "X = df2.drop('Yield', axis=1)\n",
    "y = df2['Yield']"
   ]
  },
  {
   "cell_type": "code",
   "execution_count": 10,
   "id": "092d07eb-14ea-48d7-a80b-570e01f5aa44",
   "metadata": {},
   "outputs": [],
   "source": [
    "from sklearn.model_selection import train_test_split\n",
    "X_train, X_test, y_train, y_test = train_test_split(X, y, test_size=0.3, random_state=24)"
   ]
  },
  {
   "cell_type": "code",
   "execution_count": 11,
   "id": "995ca9bb-91c9-4fea-94aa-c776d2d500b1",
   "metadata": {},
   "outputs": [
    {
     "name": "stdout",
     "output_type": "stream",
     "text": [
      "R-Squared : 0.24181005955074442\n"
     ]
    }
   ],
   "source": [
    "from sklearn.linear_model import LinearRegression\n",
    "lr = LinearRegression()\n",
    "lr.fit(X_train, y_train)\n",
    "y_pred = lr.predict(X_test)\n",
    "from sklearn.metrics import r2_score\n",
    "r2 = r2_score(y_test, y_pred)\n",
    "print(f'R-Squared : {r2}')"
   ]
  },
  {
   "cell_type": "markdown",
   "id": "1f334ee2-a31c-46b3-a303-35efdbfde8ab",
   "metadata": {},
   "source": [
    "### Imputing Median"
   ]
  },
  {
   "cell_type": "code",
   "execution_count": 16,
   "id": "e070c898-a1a8-4126-9e82-7451392faa45",
   "metadata": {},
   "outputs": [],
   "source": [
    "from sklearn.impute import SimpleImputer\n",
    "imp = SimpleImputer(strategy='median').set_output(transform='pandas')\n",
    "df3 = imp.fit_transform(df)"
   ]
  },
  {
   "cell_type": "code",
   "execution_count": 17,
   "id": "7710660c-b5b6-4b48-997d-99de9aed643a",
   "metadata": {},
   "outputs": [],
   "source": [
    "X = df3.drop('Yield', axis=1)\n",
    "y = df3['Yield']"
   ]
  },
  {
   "cell_type": "code",
   "execution_count": 18,
   "id": "c79bdfdb-dc52-4cf2-a094-00797e671fb6",
   "metadata": {},
   "outputs": [],
   "source": [
    "from sklearn.model_selection import train_test_split\n",
    "X_train, X_test, y_train, y_test = train_test_split(X, y, test_size=0.3, random_state=24)"
   ]
  },
  {
   "cell_type": "code",
   "execution_count": 19,
   "id": "d44f101f-909c-4bdc-b4bb-6b9315e0de45",
   "metadata": {},
   "outputs": [
    {
     "name": "stdout",
     "output_type": "stream",
     "text": [
      "R-Squared : 0.2366120304070478\n"
     ]
    }
   ],
   "source": [
    "from sklearn.linear_model import LinearRegression\n",
    "lr = LinearRegression()\n",
    "lr.fit(X_train, y_train)\n",
    "y_pred = lr.predict(X_test)\n",
    "from sklearn.metrics import r2_score\n",
    "r2 = r2_score(y_test, y_pred)\n",
    "print(f'R-Squared : {r2}')"
   ]
  },
  {
   "cell_type": "markdown",
   "id": "e5621be6-ac28-4a3c-89c6-f31028ebb191",
   "metadata": {},
   "source": [
    "### Conculsion : Imputing mean gets us better R2 value than imputing median"
   ]
  },
  {
   "cell_type": "markdown",
   "id": "c9e8f93c-ac84-431d-8c87-783a640edd28",
   "metadata": {},
   "source": [
    "### Imputing Mode"
   ]
  },
  {
   "cell_type": "code",
   "execution_count": 30,
   "id": "26d48ed7-1cf5-4520-a61c-3f6190a482e5",
   "metadata": {},
   "outputs": [
    {
     "name": "stdout",
     "output_type": "stream",
     "text": [
      "R-Squared : 0.294355202503086\n"
     ]
    }
   ],
   "source": [
    "from sklearn.impute import SimpleImputer\n",
    "imp = SimpleImputer(strategy='most_frequent').set_output(transform='pandas')\n",
    "df3 = imp.fit_transform(df)\n",
    "X = df3.drop('Yield', axis=1)\n",
    "y = df3['Yield']\n",
    "from sklearn.model_selection import train_test_split\n",
    "X_train, X_test, y_train, y_test = train_test_split(X, y, test_size=0.3, random_state=24)\n",
    "from sklearn.linear_model import LinearRegression\n",
    "lr = LinearRegression()\n",
    "lr.fit(X_train, y_train)\n",
    "y_pred = lr.predict(X_test)\n",
    "from sklearn.metrics import r2_score\n",
    "r2 = r2_score(y_test, y_pred)\n",
    "print(f'R-Squared : {r2}')"
   ]
  },
  {
   "cell_type": "code",
   "execution_count": null,
   "id": "c12c142c-7a08-4aff-96fd-a844ddd95f3d",
   "metadata": {},
   "outputs": [],
   "source": []
  }
 ],
 "metadata": {
  "kernelspec": {
   "display_name": "Python 3 (ipykernel)",
   "language": "python",
   "name": "python3"
  },
  "language_info": {
   "codemirror_mode": {
    "name": "ipython",
    "version": 3
   },
   "file_extension": ".py",
   "mimetype": "text/x-python",
   "name": "python",
   "nbconvert_exporter": "python",
   "pygments_lexer": "ipython3",
   "version": "3.12.4"
  }
 },
 "nbformat": 4,
 "nbformat_minor": 5
}
