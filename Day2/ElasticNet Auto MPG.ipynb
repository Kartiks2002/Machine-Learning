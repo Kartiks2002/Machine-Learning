{
 "cells": [
  {
   "cell_type": "code",
   "execution_count": 1,
   "id": "2943b5c8-763e-4626-8b1d-f72a8d62901b",
   "metadata": {},
   "outputs": [
    {
     "name": "stdout",
     "output_type": "stream",
     "text": [
      "Defaulting to user installation because normal site-packages is not writeableNote: you may need to restart the kernel to use updated packages.\n",
      "\n",
      "Collecting ucimlrepo\n",
      "  Downloading ucimlrepo-0.0.7-py3-none-any.whl.metadata (5.5 kB)\n",
      "Requirement already satisfied: pandas>=1.0.0 in c:\\programdata\\anaconda3\\lib\\site-packages (from ucimlrepo) (2.2.2)\n",
      "Requirement already satisfied: certifi>=2020.12.5 in c:\\programdata\\anaconda3\\lib\\site-packages (from ucimlrepo) (2024.6.2)\n",
      "Requirement already satisfied: numpy>=1.26.0 in c:\\programdata\\anaconda3\\lib\\site-packages (from pandas>=1.0.0->ucimlrepo) (1.26.4)\n",
      "Requirement already satisfied: python-dateutil>=2.8.2 in c:\\programdata\\anaconda3\\lib\\site-packages (from pandas>=1.0.0->ucimlrepo) (2.9.0.post0)\n",
      "Requirement already satisfied: pytz>=2020.1 in c:\\programdata\\anaconda3\\lib\\site-packages (from pandas>=1.0.0->ucimlrepo) (2024.1)\n",
      "Requirement already satisfied: tzdata>=2022.7 in c:\\programdata\\anaconda3\\lib\\site-packages (from pandas>=1.0.0->ucimlrepo) (2023.3)\n",
      "Requirement already satisfied: six>=1.5 in c:\\programdata\\anaconda3\\lib\\site-packages (from python-dateutil>=2.8.2->pandas>=1.0.0->ucimlrepo) (1.16.0)\n",
      "Downloading ucimlrepo-0.0.7-py3-none-any.whl (8.0 kB)\n",
      "Installing collected packages: ucimlrepo\n",
      "Successfully installed ucimlrepo-0.0.7\n"
     ]
    },
    {
     "name": "stderr",
     "output_type": "stream",
     "text": [
      "DEPRECATION: Loading egg at c:\\programdata\\anaconda3\\lib\\site-packages\\vboxapi-1.0-py3.12.egg is deprecated. pip 24.3 will enforce this behaviour change. A possible replacement is to use pip for package installation.. Discussion can be found at https://github.com/pypa/pip/issues/12330\n"
     ]
    }
   ],
   "source": [
    "pip install ucimlrepo"
   ]
  },
  {
   "cell_type": "code",
   "execution_count": 5,
   "id": "ff4e9197-0efb-47b0-86d5-41ce310d139f",
   "metadata": {},
   "outputs": [],
   "source": [
    "from ucimlrepo import fetch_ucirepo \n",
    "  \n",
    "# fetch dataset \n",
    "auto_mpg = fetch_ucirepo(id=9) \n",
    "  \n",
    "# data (as pandas dataframes) \n",
    "X = auto_mpg.data.features \n",
    "y = auto_mpg.data.targets \n",
    "  \n",
    "# metadata \n",
    "# print(auto_mpg.metadata) \n",
    "  \n",
    "# variable information \n",
    "# print(auto_mpg.variables) "
   ]
  },
  {
   "cell_type": "code",
   "execution_count": 30,
   "id": "f1ce7016-9bf6-434f-bd3a-4af5dab7e5b1",
   "metadata": {},
   "outputs": [
    {
     "data": {
      "text/plain": [
       "pandas.core.frame.DataFrame"
      ]
     },
     "execution_count": 30,
     "metadata": {},
     "output_type": "execute_result"
    }
   ],
   "source": [
    "type(auto_mpg.data.features)"
   ]
  },
  {
   "cell_type": "code",
   "execution_count": 13,
   "id": "4d40fd49-6135-4dd8-8f8c-e0ec71d5eb83",
   "metadata": {},
   "outputs": [],
   "source": [
    "#import pandas as pd\n",
    "pd.DataFrame(dict(auto_mpg))\n",
    "# .to_csv('../Datasets/Auto_MPG.csv')"
   ]
  },
  {
   "cell_type": "code",
   "execution_count": 11,
   "id": "b5d60a93-e5d3-404f-bfa7-880fe03035c8",
   "metadata": {},
   "outputs": [
    {
     "data": {
      "text/plain": [
       "pandas.core.frame.DataFrame"
      ]
     },
     "execution_count": 11,
     "metadata": {},
     "output_type": "execute_result"
    }
   ],
   "source": [
    "type(y)"
   ]
  },
  {
   "cell_type": "code",
   "execution_count": 14,
   "id": "9a0fed80-65d2-4d8c-91e5-17454556b15e",
   "metadata": {},
   "outputs": [
    {
     "data": {
      "text/plain": [
       "displacement    0\n",
       "cylinders       0\n",
       "horsepower      6\n",
       "weight          0\n",
       "acceleration    0\n",
       "model_year      0\n",
       "origin          0\n",
       "dtype: int64"
      ]
     },
     "execution_count": 14,
     "metadata": {},
     "output_type": "execute_result"
    }
   ],
   "source": [
    "X.isna().sum()"
   ]
  },
  {
   "cell_type": "markdown",
   "id": "bca0f946-1847-4dc9-b686-d2837e0cd01a",
   "metadata": {},
   "source": [
    "### Imputing mean and finding best combination of alpha and l1_ratio"
   ]
  },
  {
   "cell_type": "code",
   "execution_count": 22,
   "id": "3153cf8f-799e-40c3-9f3d-8454092cb839",
   "metadata": {},
   "outputs": [],
   "source": [
    "from sklearn.impute import SimpleImputer\n",
    "si = SimpleImputer(strategy='mean').set_output(transform='pandas')\n",
    "X_imp = si.fit_transform(X)"
   ]
  },
  {
   "cell_type": "code",
   "execution_count": 23,
   "id": "2a97cb55-f998-443a-9b27-cebed1ea23d7",
   "metadata": {},
   "outputs": [],
   "source": [
    "from sklearn.model_selection import train_test_split\n",
    "X_train, X_test, y_train, y_test = train_test_split(X_imp, y, test_size=0.3, random_state=24)"
   ]
  },
  {
   "cell_type": "code",
   "execution_count": 24,
   "id": "56dfb9fb-b0a3-46de-858d-ef18db2e59ca",
   "metadata": {},
   "outputs": [
    {
     "name": "stdout",
     "output_type": "stream",
     "text": [
      "Best alpha : 0.1\n",
      "Best l1_ratio : 0.9\n",
      "Best r2 : 0.7634320067045604\n"
     ]
    }
   ],
   "source": [
    "from sklearn.linear_model import ElasticNet\n",
    "ENet = ElasticNet()\n",
    "\n",
    "### Finding the best combination of alpha and l1_ratio\n",
    "import warnings\n",
    "warnings.filterwarnings('ignore')\n",
    "from sklearn.metrics import r2_score \n",
    "alpha=[0.01, 0.1, 0.5, 1, 2.5, 3, 5]\n",
    "ratios=[0.001, 0.3, 0.5, 0.7, 0.9]\n",
    "scores = []\n",
    "for i in alpha :\n",
    "    for j in ratios :\n",
    "        e1 = ElasticNet(alpha=i, l1_ratio=j)\n",
    "        e1.fit(X_train, y_train)\n",
    "        y_pred = e1.predict(X_test)\n",
    "        scores.append([i, j, r2_score(y_test, y_pred)])\n",
    "\n",
    "df_scores=pd.DataFrame(scores, columns=['alpha', 'l1_score', 'r2'])\n",
    "best_combo = df_scores.sort_values('r2', ascending=False).iloc[0]\n",
    "\n",
    "best_alpha = best_combo[0]\n",
    "best_l1 = best_combo[1]\n",
    "best_r2 = best_combo[2]\n",
    "print(f'Best alpha : {best_alpha}')\n",
    "print(f'Best l1_ratio : {best_l1}')\n",
    "print(f'Best r2 : {best_r2}')"
   ]
  },
  {
   "cell_type": "markdown",
   "id": "ea40d92e-e956-4c0d-88a7-2952599fb629",
   "metadata": {},
   "source": [
    "### Imputing median and finding best combination of alpha and l1_ratio"
   ]
  },
  {
   "cell_type": "code",
   "execution_count": 25,
   "id": "945ff6ee-23c9-4fc4-80b8-b8eb2425816b",
   "metadata": {},
   "outputs": [
    {
     "name": "stdout",
     "output_type": "stream",
     "text": [
      "Best alpha : 0.1\n",
      "Best l1_ratio : 0.9\n",
      "Best r2 : 0.7634320067045604\n"
     ]
    }
   ],
   "source": [
    "from sklearn.impute import SimpleImputer\n",
    "imp = SimpleImputer(strategy='median').set_output(transform='pandas')\n",
    "X_imp = imp.fit_transform(X_imp)\n",
    "from sklearn.model_selection import train_test_split\n",
    "X_train, X_test, y_train, y_test = train_test_split(X_imp, y, test_size=0.3, random_state=24)\n",
    "from sklearn.linear_model import ElasticNet\n",
    "ENet = ElasticNet()\n",
    "import warnings\n",
    "warnings.filterwarnings('ignore')\n",
    "from sklearn.metrics import r2_score \n",
    "alpha=[0.01, 0.1, 0.5, 1, 2.5, 3, 5]\n",
    "ratios=[0.001, 0.3, 0.5, 0.7, 0.9]\n",
    "scores = []\n",
    "for i in alpha :\n",
    "    for j in ratios :\n",
    "        e1 = ElasticNet(alpha=i, l1_ratio=j)\n",
    "        e1.fit(X_train, y_train)\n",
    "        y_pred = e1.predict(X_test)\n",
    "        scores.append([i, j, r2_score(y_test, y_pred)])\n",
    "\n",
    "df_scores=pd.DataFrame(scores, columns=['alpha', 'l1_score', 'r2'])\n",
    "best_combo = df_scores.sort_values('r2', ascending=False).iloc[0]\n",
    "best_alpha = best_combo[0]\n",
    "best_l1 = best_combo[1]\n",
    "best_r2 = best_combo[2]\n",
    "print(f'Best alpha : {best_alpha}')\n",
    "print(f'Best l1_ratio : {best_l1}')\n",
    "print(f'Best r2 : {best_r2}')"
   ]
  },
  {
   "cell_type": "code",
   "execution_count": 27,
   "id": "b286b418-19a6-4532-8b32-a22a1da1683e",
   "metadata": {},
   "outputs": [
    {
     "data": {
      "text/plain": [
       "104.46938775510205"
      ]
     },
     "execution_count": 27,
     "metadata": {},
     "output_type": "execute_result"
    }
   ],
   "source": [
    "X.horsepower.mean()"
   ]
  },
  {
   "cell_type": "code",
   "execution_count": 28,
   "id": "7f0d1911-b8d8-4e26-a5da-bee8e5981438",
   "metadata": {},
   "outputs": [
    {
     "data": {
      "text/plain": [
       "93.5"
      ]
     },
     "execution_count": 28,
     "metadata": {},
     "output_type": "execute_result"
    }
   ],
   "source": [
    "X.horsepower.median()"
   ]
  },
  {
   "cell_type": "markdown",
   "id": "d3b21556-ff60-4488-912c-08555609c264",
   "metadata": {},
   "source": [
    "### Apply `ln(1+y)` to y"
   ]
  },
  {
   "cell_type": "code",
   "execution_count": 40,
   "id": "2c44d493-1f77-4d94-9980-f70499eedafa",
   "metadata": {},
   "outputs": [
    {
     "name": "stdout",
     "output_type": "stream",
     "text": [
      "Best alpha : 0.01\n",
      "Best l1_ratio : 0.9\n",
      "Best r2 : 0.8059249991482187\n"
     ]
    }
   ],
   "source": [
    "import numpy as np\n",
    "from sklearn.impute import SimpleImputer\n",
    "imp = SimpleImputer(strategy='median').set_output(transform='pandas')\n",
    "X_imp = imp.fit_transform(X_imp)\n",
    "from sklearn.model_selection import train_test_split\n",
    "X_train, X_test, y_train, y_test = train_test_split(X_imp, y, test_size=0.3, random_state=24)\n",
    "from sklearn.linear_model import ElasticNet\n",
    "ENet = ElasticNet()\n",
    "import warnings\n",
    "warnings.filterwarnings('ignore')\n",
    "from sklearn.metrics import r2_score \n",
    "alpha=[0.01, 0.1, 0.5, 1, 2.5, 3, 5]\n",
    "ratios=[0.001, 0.3, 0.5, 0.7, 0.9]\n",
    "scores = []\n",
    "y_trn_ln = np.log1p(y_train)\n",
    "for i in alpha :\n",
    "    for j in ratios :\n",
    "        e1 = ElasticNet(alpha=i, l1_ratio=j)\n",
    "        e1.fit(X_train, y_trn_ln)\n",
    "        y_pred = e1.predict(X_test)\n",
    "        y_pred = np.expm1(y_pred)\n",
    "        scores.append([i, j, r2_score(y_test, y_pred)])\n",
    "\n",
    "df_scores=pd.DataFrame(scores, columns=['alpha', 'l1_score', 'r2'])\n",
    "best_combo = df_scores.sort_values('r2', ascending=False).iloc[0]\n",
    "best_alpha = best_combo[0]\n",
    "best_l1 = best_combo[1]\n",
    "best_r2 = best_combo[2]\n",
    "print(f'Best alpha : {best_alpha}')\n",
    "print(f'Best l1_ratio : {best_l1}')\n",
    "print(f'Best r2 : {best_r2}')"
   ]
  },
  {
   "cell_type": "code",
   "execution_count": null,
   "id": "a45144e5-10dc-489e-8cc7-a0cfbdc8dbdd",
   "metadata": {},
   "outputs": [],
   "source": [
    "  "
   ]
  }
 ],
 "metadata": {
  "kernelspec": {
   "display_name": "Python 3 (ipykernel)",
   "language": "python",
   "name": "python3"
  },
  "language_info": {
   "codemirror_mode": {
    "name": "ipython",
    "version": 3
   },
   "file_extension": ".py",
   "mimetype": "text/x-python",
   "name": "python",
   "nbconvert_exporter": "python",
   "pygments_lexer": "ipython3",
   "version": "3.12.4"
  }
 },
 "nbformat": 4,
 "nbformat_minor": 5
}
