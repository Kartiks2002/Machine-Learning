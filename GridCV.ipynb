{
 "cells": [
  {
   "cell_type": "markdown",
   "id": "8f81838a-a88b-4daf-8f1a-1050bc926021",
   "metadata": {
    "jp-MarkdownHeadingCollapsed": true
   },
   "source": [
    "## LogisticRegression on Kyphosis"
   ]
  },
  {
   "cell_type": "code",
   "execution_count": 12,
   "id": "8364544b-2e71-4ed6-8f9c-1b714e41bb7f",
   "metadata": {},
   "outputs": [],
   "source": [
    "import warnings\n",
    "warnings.filterwarnings('ignore')"
   ]
  },
  {
   "cell_type": "code",
   "execution_count": 13,
   "id": "c6d5d8c2-6fed-479a-aaf6-b2219b6b6161",
   "metadata": {},
   "outputs": [
    {
     "data": {
      "text/html": [
       "<div>\n",
       "<style scoped>\n",
       "    .dataframe tbody tr th:only-of-type {\n",
       "        vertical-align: middle;\n",
       "    }\n",
       "\n",
       "    .dataframe tbody tr th {\n",
       "        vertical-align: top;\n",
       "    }\n",
       "\n",
       "    .dataframe thead th {\n",
       "        text-align: right;\n",
       "    }\n",
       "</style>\n",
       "<table border=\"1\" class=\"dataframe\">\n",
       "  <thead>\n",
       "    <tr style=\"text-align: right;\">\n",
       "      <th></th>\n",
       "      <th>Kyphosis</th>\n",
       "      <th>Age</th>\n",
       "      <th>Number</th>\n",
       "      <th>Start</th>\n",
       "    </tr>\n",
       "  </thead>\n",
       "  <tbody>\n",
       "    <tr>\n",
       "      <th>0</th>\n",
       "      <td>absent</td>\n",
       "      <td>71</td>\n",
       "      <td>3</td>\n",
       "      <td>5</td>\n",
       "    </tr>\n",
       "    <tr>\n",
       "      <th>1</th>\n",
       "      <td>absent</td>\n",
       "      <td>158</td>\n",
       "      <td>3</td>\n",
       "      <td>14</td>\n",
       "    </tr>\n",
       "    <tr>\n",
       "      <th>2</th>\n",
       "      <td>present</td>\n",
       "      <td>128</td>\n",
       "      <td>4</td>\n",
       "      <td>5</td>\n",
       "    </tr>\n",
       "    <tr>\n",
       "      <th>3</th>\n",
       "      <td>absent</td>\n",
       "      <td>2</td>\n",
       "      <td>5</td>\n",
       "      <td>1</td>\n",
       "    </tr>\n",
       "    <tr>\n",
       "      <th>4</th>\n",
       "      <td>absent</td>\n",
       "      <td>1</td>\n",
       "      <td>4</td>\n",
       "      <td>15</td>\n",
       "    </tr>\n",
       "  </tbody>\n",
       "</table>\n",
       "</div>"
      ],
      "text/plain": [
       "  Kyphosis  Age  Number  Start\n",
       "0   absent   71       3      5\n",
       "1   absent  158       3     14\n",
       "2  present  128       4      5\n",
       "3   absent    2       5      1\n",
       "4   absent    1       4     15"
      ]
     },
     "execution_count": 13,
     "metadata": {},
     "output_type": "execute_result"
    }
   ],
   "source": [
    "import pandas as pd\n",
    "ky = pd.read_csv('../Cases/Kyphosis/Kyphosis.csv')\n",
    "ky.head()"
   ]
  },
  {
   "cell_type": "code",
   "execution_count": 14,
   "id": "2486243b-faef-4aed-ba18-c437ca47f8d4",
   "metadata": {},
   "outputs": [],
   "source": [
    "X, y = ky.drop('Kyphosis', axis=1), ky['Kyphosis']"
   ]
  },
  {
   "cell_type": "code",
   "execution_count": 16,
   "id": "e28c99d7-6750-4a6e-88e7-a23a8709faff",
   "metadata": {
    "scrolled": true
   },
   "outputs": [
    {
     "name": "stdout",
     "output_type": "stream",
     "text": [
      "{'l1_ratio': 0.01, 'penalty': None} 0.7654411764705882\n"
     ]
    }
   ],
   "source": [
    "from sklearn.linear_model import LogisticRegression\n",
    "import numpy as np\n",
    "from sklearn.model_selection import GridSearchCV, KFold\n",
    "\n",
    "kfold = KFold(n_splits=5, shuffle=True, random_state=24)\n",
    "params = {'penalty': ['l1', 'l2', 'elasticnet', None],\n",
    "         'l1_ratio': [0.01, 0.1, 1, 10],\n",
    "         }  # 'solver': ['lbfgs', 'liblinear', 'newton-cg', 'newton-cholesky', 'sag', 'saga']\n",
    "lr = LogisticRegression()\n",
    "grid_lr = GridSearchCV(lr, param_grid=params, cv=kfold, scoring='accuracy')\n",
    "grid_lr.fit(X, y)\n",
    "print(grid_lr.best_params_, grid_lr.best_score_)"
   ]
  },
  {
   "cell_type": "markdown",
   "id": "37bebd59-d769-4e50-9952-9622abe44a99",
   "metadata": {},
   "source": [
    "## Random Forest for Concrete Strength"
   ]
  },
  {
   "cell_type": "code",
   "execution_count": 18,
   "id": "134308d4-a41d-418d-bd86-197b46db9627",
   "metadata": {},
   "outputs": [
    {
     "data": {
      "text/html": [
       "<div>\n",
       "<style scoped>\n",
       "    .dataframe tbody tr th:only-of-type {\n",
       "        vertical-align: middle;\n",
       "    }\n",
       "\n",
       "    .dataframe tbody tr th {\n",
       "        vertical-align: top;\n",
       "    }\n",
       "\n",
       "    .dataframe thead th {\n",
       "        text-align: right;\n",
       "    }\n",
       "</style>\n",
       "<table border=\"1\" class=\"dataframe\">\n",
       "  <thead>\n",
       "    <tr style=\"text-align: right;\">\n",
       "      <th></th>\n",
       "      <th>Cement</th>\n",
       "      <th>Blast</th>\n",
       "      <th>Fly</th>\n",
       "      <th>Water</th>\n",
       "      <th>Superplasticizer</th>\n",
       "      <th>Coarse</th>\n",
       "      <th>Fine</th>\n",
       "      <th>Age</th>\n",
       "      <th>Strength</th>\n",
       "    </tr>\n",
       "  </thead>\n",
       "  <tbody>\n",
       "    <tr>\n",
       "      <th>0</th>\n",
       "      <td>540.0</td>\n",
       "      <td>0.0</td>\n",
       "      <td>0.0</td>\n",
       "      <td>162.0</td>\n",
       "      <td>2.5</td>\n",
       "      <td>1040.0</td>\n",
       "      <td>676.0</td>\n",
       "      <td>28</td>\n",
       "      <td>79.99</td>\n",
       "    </tr>\n",
       "  </tbody>\n",
       "</table>\n",
       "</div>"
      ],
      "text/plain": [
       "   Cement  Blast  Fly  Water  Superplasticizer  Coarse   Fine  Age  Strength\n",
       "0   540.0    0.0  0.0  162.0               2.5  1040.0  676.0   28     79.99"
      ]
     },
     "execution_count": 18,
     "metadata": {},
     "output_type": "execute_result"
    }
   ],
   "source": [
    "df = pd.read_csv('../Cases/Concrete Strength/Concrete_Data.csv')\n",
    "df.head(1)"
   ]
  },
  {
   "cell_type": "code",
   "execution_count": 24,
   "id": "11c36de1-c47e-4837-8946-b7d54ce3efe1",
   "metadata": {},
   "outputs": [],
   "source": [
    "X, y = df.drop(columns=['Strength']), df['Strength']"
   ]
  },
  {
   "cell_type": "markdown",
   "id": "767f687d-af2b-4410-ba8a-cda7ed8a6cde",
   "metadata": {},
   "source": [
    "#### Decision Tree"
   ]
  },
  {
   "cell_type": "code",
   "execution_count": 26,
   "id": "1a205f40-9d7d-4057-b2a6-b3ee526aaed2",
   "metadata": {},
   "outputs": [
    {
     "name": "stdout",
     "output_type": "stream",
     "text": [
      "{'max_depth': None, 'max_features': 6, 'min_samples_leaf': 1, 'min_samples_split': 2} 0.8621180930193498\n"
     ]
    }
   ],
   "source": [
    "from sklearn.tree import DecisionTreeRegressor\n",
    "dct = DecisionTreeRegressor()\n",
    "dct.get_params()\n",
    "params = {'max_depth': [2,5,None],\n",
    "         'min_samples_split': [2,5,10,20],\n",
    "         'min_samples_leaf': [1,5,10,20],\n",
    "         'max_features': [3,4,5,6]}\n",
    "\n",
    "from sklearn.model_selection import GridSearchCV\n",
    "grid_dct = GridSearchCV(dct, param_grid=params, cv=kfold, scoring='r2')\n",
    "grid_dct.fit(X, y)\n",
    "print(grid_dct.best_params_, grid_dct.best_score_)"
   ]
  },
  {
   "cell_type": "code",
   "execution_count": 35,
   "id": "40c2efed-e7fc-444b-a647-66e844056a7d",
   "metadata": {},
   "outputs": [
    {
     "name": "stdout",
     "output_type": "stream",
     "text": [
      "{'max_depth': 7, 'max_features': 6, 'min_samples_leaf': 1, 'min_samples_split': 2} 0.886363889939282\n"
     ]
    }
   ],
   "source": [
    "from sklearn.ensemble import RandomForestRegressor\n",
    "rf = RandomForestRegressor()\n",
    "\n",
    "params = {'max_depth': [2,5,7],\n",
    "         'min_samples_split': [2,5,10,20],\n",
    "         'min_samples_leaf': [1,5,10,20],\n",
    "         'max_features': [3,4,5,6]}\n",
    "kfold = KFold(n_splits=5, shuffle=True, random_state=24)\n",
    "\n",
    "from sklearn.model_selection import GridSearchCV\n",
    "grid_rf = GridSearchCV(rf, param_grid=params, cv=kfold, scoring='r2')\n",
    "grid_rf.fit(X, y)\n",
    "print(grid_rf.best_params_, grid_rf.best_score_)"
   ]
  },
  {
   "cell_type": "code",
   "execution_count": 31,
   "id": "ff035940-f60d-43a0-81d6-f7a7866dbbc4",
   "metadata": {},
   "outputs": [
    {
     "data": {
      "text/plain": [
       "(192, 17)"
      ]
     },
     "execution_count": 31,
     "metadata": {},
     "output_type": "execute_result"
    }
   ],
   "source": [
    "df_cv = pd.DataFrame(grid_dct.cv_results_)\n",
    "df_cv.shape"
   ]
  },
  {
   "cell_type": "code",
   "execution_count": 36,
   "id": "051bc573-b640-4cac-aa08-3fe43009ae3c",
   "metadata": {},
   "outputs": [
    {
     "data": {
      "text/plain": [
       "mean_fit_time                                                       0.255244\n",
       "std_fit_time                                                         0.00049\n",
       "mean_score_time                                                     0.008995\n",
       "std_score_time                                                           0.0\n",
       "param_max_depth                                                         None\n",
       "param_max_features                                                         4\n",
       "param_min_samples_leaf                                                     1\n",
       "param_min_samples_split                                                    2\n",
       "params                     {'max_depth': None, 'max_features': 4, 'min_sa...\n",
       "split0_test_score                                                    0.92781\n",
       "split1_test_score                                                   0.886638\n",
       "split2_test_score                                                   0.929036\n",
       "split3_test_score                                                   0.909479\n",
       "split4_test_score                                                   0.923701\n",
       "mean_test_score                                                     0.915333\n",
       "std_test_score                                                      0.015944\n",
       "rank_test_score                                                            1\n",
       "Name: 144, dtype: object"
      ]
     },
     "execution_count": 36,
     "metadata": {},
     "output_type": "execute_result"
    }
   ],
   "source": [
    "df_cv.sort_values('rank_test_score', ascending=True).iloc[0]"
   ]
  },
  {
   "cell_type": "code",
   "execution_count": 39,
   "id": "8c36b500-6896-4178-8972-b9e5db01356a",
   "metadata": {},
   "outputs": [
    {
     "data": {
      "text/html": [
       "<div>\n",
       "<style scoped>\n",
       "    .dataframe tbody tr th:only-of-type {\n",
       "        vertical-align: middle;\n",
       "    }\n",
       "\n",
       "    .dataframe tbody tr th {\n",
       "        vertical-align: top;\n",
       "    }\n",
       "\n",
       "    .dataframe thead th {\n",
       "        text-align: right;\n",
       "    }\n",
       "</style>\n",
       "<table border=\"1\" class=\"dataframe\">\n",
       "  <thead>\n",
       "    <tr style=\"text-align: right;\">\n",
       "      <th></th>\n",
       "      <th>Cement</th>\n",
       "      <th>Blast</th>\n",
       "      <th>Fly</th>\n",
       "      <th>Water</th>\n",
       "      <th>Superplasticizer</th>\n",
       "      <th>Coarse</th>\n",
       "      <th>Fine</th>\n",
       "      <th>Age</th>\n",
       "      <th>Strength</th>\n",
       "    </tr>\n",
       "  </thead>\n",
       "  <tbody>\n",
       "    <tr>\n",
       "      <th>0</th>\n",
       "      <td>495</td>\n",
       "      <td>120</td>\n",
       "      <td>0</td>\n",
       "      <td>155</td>\n",
       "      <td>5</td>\n",
       "      <td>866</td>\n",
       "      <td>884</td>\n",
       "      <td>75</td>\n",
       "      <td>61.050879</td>\n",
       "    </tr>\n",
       "    <tr>\n",
       "      <th>1</th>\n",
       "      <td>262</td>\n",
       "      <td>129</td>\n",
       "      <td>0</td>\n",
       "      <td>271</td>\n",
       "      <td>2</td>\n",
       "      <td>808</td>\n",
       "      <td>787</td>\n",
       "      <td>174</td>\n",
       "      <td>40.191430</td>\n",
       "    </tr>\n",
       "    <tr>\n",
       "      <th>2</th>\n",
       "      <td>201</td>\n",
       "      <td>48</td>\n",
       "      <td>1</td>\n",
       "      <td>215</td>\n",
       "      <td>5</td>\n",
       "      <td>807</td>\n",
       "      <td>839</td>\n",
       "      <td>113</td>\n",
       "      <td>37.321164</td>\n",
       "    </tr>\n",
       "    <tr>\n",
       "      <th>3</th>\n",
       "      <td>329</td>\n",
       "      <td>141</td>\n",
       "      <td>0</td>\n",
       "      <td>286</td>\n",
       "      <td>1</td>\n",
       "      <td>881</td>\n",
       "      <td>823</td>\n",
       "      <td>229</td>\n",
       "      <td>41.008417</td>\n",
       "    </tr>\n",
       "    <tr>\n",
       "      <th>4</th>\n",
       "      <td>354</td>\n",
       "      <td>14</td>\n",
       "      <td>0</td>\n",
       "      <td>129</td>\n",
       "      <td>2</td>\n",
       "      <td>839</td>\n",
       "      <td>847</td>\n",
       "      <td>210</td>\n",
       "      <td>55.514148</td>\n",
       "    </tr>\n",
       "    <tr>\n",
       "      <th>5</th>\n",
       "      <td>150</td>\n",
       "      <td>23</td>\n",
       "      <td>23</td>\n",
       "      <td>114</td>\n",
       "      <td>4</td>\n",
       "      <td>883</td>\n",
       "      <td>638</td>\n",
       "      <td>36</td>\n",
       "      <td>24.861505</td>\n",
       "    </tr>\n",
       "    <tr>\n",
       "      <th>6</th>\n",
       "      <td>480</td>\n",
       "      <td>64</td>\n",
       "      <td>0</td>\n",
       "      <td>292</td>\n",
       "      <td>3</td>\n",
       "      <td>896</td>\n",
       "      <td>776</td>\n",
       "      <td>180</td>\n",
       "      <td>51.202178</td>\n",
       "    </tr>\n",
       "    <tr>\n",
       "      <th>7</th>\n",
       "      <td>393</td>\n",
       "      <td>49</td>\n",
       "      <td>82</td>\n",
       "      <td>132</td>\n",
       "      <td>1</td>\n",
       "      <td>887</td>\n",
       "      <td>830</td>\n",
       "      <td>271</td>\n",
       "      <td>57.492614</td>\n",
       "    </tr>\n",
       "    <tr>\n",
       "      <th>8</th>\n",
       "      <td>284</td>\n",
       "      <td>63</td>\n",
       "      <td>1</td>\n",
       "      <td>138</td>\n",
       "      <td>1</td>\n",
       "      <td>804</td>\n",
       "      <td>725</td>\n",
       "      <td>44</td>\n",
       "      <td>53.747049</td>\n",
       "    </tr>\n",
       "    <tr>\n",
       "      <th>9</th>\n",
       "      <td>206</td>\n",
       "      <td>38</td>\n",
       "      <td>0</td>\n",
       "      <td>103</td>\n",
       "      <td>2</td>\n",
       "      <td>818</td>\n",
       "      <td>719</td>\n",
       "      <td>191</td>\n",
       "      <td>48.515338</td>\n",
       "    </tr>\n",
       "    <tr>\n",
       "      <th>10</th>\n",
       "      <td>247</td>\n",
       "      <td>64</td>\n",
       "      <td>26</td>\n",
       "      <td>175</td>\n",
       "      <td>2</td>\n",
       "      <td>822</td>\n",
       "      <td>898</td>\n",
       "      <td>183</td>\n",
       "      <td>43.981892</td>\n",
       "    </tr>\n",
       "    <tr>\n",
       "      <th>11</th>\n",
       "      <td>223</td>\n",
       "      <td>102</td>\n",
       "      <td>0</td>\n",
       "      <td>110</td>\n",
       "      <td>2</td>\n",
       "      <td>808</td>\n",
       "      <td>854</td>\n",
       "      <td>270</td>\n",
       "      <td>47.638541</td>\n",
       "    </tr>\n",
       "    <tr>\n",
       "      <th>12</th>\n",
       "      <td>457</td>\n",
       "      <td>89</td>\n",
       "      <td>0</td>\n",
       "      <td>289</td>\n",
       "      <td>3</td>\n",
       "      <td>829</td>\n",
       "      <td>865</td>\n",
       "      <td>190</td>\n",
       "      <td>48.009558</td>\n",
       "    </tr>\n",
       "    <tr>\n",
       "      <th>13</th>\n",
       "      <td>125</td>\n",
       "      <td>93</td>\n",
       "      <td>0</td>\n",
       "      <td>200</td>\n",
       "      <td>5</td>\n",
       "      <td>893</td>\n",
       "      <td>671</td>\n",
       "      <td>113</td>\n",
       "      <td>38.383422</td>\n",
       "    </tr>\n",
       "  </tbody>\n",
       "</table>\n",
       "</div>"
      ],
      "text/plain": [
       "    Cement  Blast  Fly  Water  Superplasticizer  Coarse  Fine  Age   Strength\n",
       "0      495    120    0    155                 5     866   884   75  61.050879\n",
       "1      262    129    0    271                 2     808   787  174  40.191430\n",
       "2      201     48    1    215                 5     807   839  113  37.321164\n",
       "3      329    141    0    286                 1     881   823  229  41.008417\n",
       "4      354     14    0    129                 2     839   847  210  55.514148\n",
       "5      150     23   23    114                 4     883   638   36  24.861505\n",
       "6      480     64    0    292                 3     896   776  180  51.202178\n",
       "7      393     49   82    132                 1     887   830  271  57.492614\n",
       "8      284     63    1    138                 1     804   725   44  53.747049\n",
       "9      206     38    0    103                 2     818   719  191  48.515338\n",
       "10     247     64   26    175                 2     822   898  183  43.981892\n",
       "11     223    102    0    110                 2     808   854  270  47.638541\n",
       "12     457     89    0    289                 3     829   865  190  48.009558\n",
       "13     125     93    0    200                 5     893   671  113  38.383422"
      ]
     },
     "execution_count": 39,
     "metadata": {},
     "output_type": "execute_result"
    }
   ],
   "source": [
    "test = pd.read_csv('../Cases/Concrete Strength/testConcrete.csv')\n",
    "y_pred = grid_rf.predict(test)\n",
    "test['Strength'] = y_pred\n",
    "test"
   ]
  },
  {
   "cell_type": "code",
   "execution_count": null,
   "id": "33d9609f-901e-42f8-ba23-63cff7de1186",
   "metadata": {},
   "outputs": [],
   "source": []
  }
 ],
 "metadata": {
  "kernelspec": {
   "display_name": "Python 3 (ipykernel)",
   "language": "python",
   "name": "python3"
  },
  "language_info": {
   "codemirror_mode": {
    "name": "ipython",
    "version": 3
   },
   "file_extension": ".py",
   "mimetype": "text/x-python",
   "name": "python",
   "nbconvert_exporter": "python",
   "pygments_lexer": "ipython3",
   "version": "3.12.4"
  }
 },
 "nbformat": 4,
 "nbformat_minor": 5
}
