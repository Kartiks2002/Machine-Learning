{
 "cells": [
  {
   "cell_type": "code",
   "execution_count": 3,
   "id": "96f3344b-6ac2-4a08-bf58-f0723848c2a3",
   "metadata": {},
   "outputs": [],
   "source": [
    "import tensorflow as tf\n",
    "import numpy as np"
   ]
  },
  {
   "cell_type": "markdown",
   "id": "e6459960-3f4b-43f4-8f72-b4619ccfbde7",
   "metadata": {},
   "source": [
    "### 1. Creating Tensors in TensorFlow"
   ]
  },
  {
   "cell_type": "markdown",
   "id": "ade78340-95da-4abe-9c86-bd359615474d",
   "metadata": {},
   "source": [
    "#### From Constants"
   ]
  },
  {
   "cell_type": "code",
   "execution_count": 6,
   "id": "1d9f6bab-3405-439a-b432-8d4759e9c8d3",
   "metadata": {},
   "outputs": [
    {
     "name": "stdout",
     "output_type": "stream",
     "text": [
      "tf.Tensor(3, shape=(), dtype=int32)\n",
      "________________________________________\n",
      "tf.Tensor([1 2 3], shape=(3,), dtype=int32)\n",
      "________________________________________\n",
      "tf.Tensor(\n",
      "[[1 2]\n",
      " [3 4]], shape=(2, 2), dtype=int32)\n",
      "________________________________________\n",
      "tf.Tensor(\n",
      "[[[1 2]\n",
      "  [3 4]]\n",
      "\n",
      " [[5 6]\n",
      "  [7 8]]], shape=(2, 2, 2), dtype=int32)\n"
     ]
    }
   ],
   "source": [
    "# Rank 0\n",
    "scalar = tf.constant(3)\n",
    "\n",
    "# Rank 1\n",
    "vector = tf.constant([1,2,3])\n",
    "\n",
    "# Rank 2\n",
    "matrix = tf.constant([[1,2], [3,4]])\n",
    "\n",
    "# Rank 3+\n",
    "tensor_3d = tf.constant([[[1,2], [3,4]],\n",
    "                        [[5,6], [7,8]]\n",
    "                        ])\n",
    "\n",
    "print(scalar)\n",
    "print('_'*40)\n",
    "print(vector)\n",
    "print('_'*40)\n",
    "print(matrix)\n",
    "print('_'*40)\n",
    "print(tensor_3d)"
   ]
  },
  {
   "cell_type": "markdown",
   "id": "6840f156-f657-4582-a310-7482111fc1c8",
   "metadata": {},
   "source": [
    "#### From NumPy Arrays"
   ]
  },
  {
   "cell_type": "code",
   "execution_count": 9,
   "id": "f75ea5d8-d9c5-479f-9c2c-024836838cc1",
   "metadata": {},
   "outputs": [
    {
     "name": "stdout",
     "output_type": "stream",
     "text": [
      "tf.Tensor(\n",
      "[[1. 2.]\n",
      " [3. 4.]], shape=(2, 2), dtype=float32)\n"
     ]
    }
   ],
   "source": [
    "np_array = np.array([[1,2], [3,4]])\n",
    "\n",
    "tensor_from_numpy = tf.convert_to_tensor(np_array, dtype=tf.float32)\n",
    "\n",
    "print(tensor_from_numpy)"
   ]
  },
  {
   "cell_type": "markdown",
   "id": "9bdf27a6-1860-43c4-956f-419dd374bdc8",
   "metadata": {},
   "source": [
    "#### Using TF funstions"
   ]
  },
  {
   "cell_type": "code",
   "execution_count": 11,
   "id": "e9e6bea4-8022-4b70-acc5-a825365dffe2",
   "metadata": {},
   "outputs": [
    {
     "name": "stdout",
     "output_type": "stream",
     "text": [
      "tf.Tensor(\n",
      "[[0. 0. 0.]\n",
      " [0. 0. 0.]\n",
      " [0. 0. 0.]], shape=(3, 3), dtype=float32)\n",
      "________________________________________\n",
      "tf.Tensor(\n",
      "[[1. 1. 1.]\n",
      " [1. 1. 1.]], shape=(2, 3), dtype=float32)\n"
     ]
    }
   ],
   "source": [
    "# Tensor of zeros\n",
    "zero_tensor = tf.zeros([3,3])\n",
    "print(zero_tensor)\n",
    "print('_'*40)\n",
    "\n",
    "# Tensor of ones\n",
    "ones_tensor = tf.ones([2,3])\n",
    "print(ones_tensor)"
   ]
  },
  {
   "cell_type": "code",
   "execution_count": 26,
   "id": "d40a7af4-cc5d-49bd-bf4a-b9980e6ec22f",
   "metadata": {},
   "outputs": [
    {
     "name": "stdout",
     "output_type": "stream",
     "text": [
      "tf.Tensor(\n",
      "[[ 1.6628428   0.93898857 -1.0541383 ]\n",
      " [-0.8155626   0.25823978 -0.5665658 ]], shape=(2, 3), dtype=float32)\n",
      "________________________________________________________________________________\n",
      "tf.Tensor(\n",
      "[[0.28122306 0.36711574 8.333291  ]\n",
      " [1.7592084  0.44962883 3.7781    ]], shape=(2, 3), dtype=float32)\n"
     ]
    }
   ],
   "source": [
    "# Random\n",
    "random_normal_tensor = tf.random.normal([2,3], mean=0, stddev=1)\n",
    "print(random_normal_tensor)\n",
    "print('_'*80)\n",
    "\n",
    "random_uniform_tensor = tf.random.uniform([2,3], minval=0, maxval=10)\n",
    "print(random_uniform_tensor)"
   ]
  },
  {
   "cell_type": "code",
   "execution_count": 27,
   "id": "f113d3f3-1dd4-4fa7-90c0-5bbcfc4ba578",
   "metadata": {},
   "outputs": [
    {
     "name": "stdout",
     "output_type": "stream",
     "text": [
      "tf.Tensor([ 1.  2.  3.  4.  5.  6.  7.  8.  9. 10.], shape=(10,), dtype=float32)\n",
      "________________________________________________________________________________\n",
      "tf.Tensor([0 2 4 6 8], shape=(5,), dtype=int32)\n"
     ]
    }
   ],
   "source": [
    "linspace_tensor = tf.linspace(1.0, 10.0, num=10)  # 10 values from 1 to 10\n",
    "print(linspace_tensor)\n",
    "print('_'*80)\n",
    "\n",
    "range_tensor = tf.range(0, 10, 2)  # Values from 0 to 10 with step size 2\n",
    "print(range_tensor)"
   ]
  },
  {
   "cell_type": "code",
   "execution_count": 28,
   "id": "728d70b6-0fcc-4590-a4f4-5feba2ce196f",
   "metadata": {},
   "outputs": [
    {
     "name": "stdout",
     "output_type": "stream",
     "text": [
      "<tf.Variable 'Variable:0' shape=(3,) dtype=int32, numpy=array([1, 2, 3], dtype=int32)>\n"
     ]
    }
   ],
   "source": [
    "variable_tensor = tf.Variable([1, 2, 3])\n",
    "print(variable_tensor)"
   ]
  },
  {
   "cell_type": "markdown",
   "id": "533dcdf6-010a-4914-a0e5-5e1b0f813c43",
   "metadata": {},
   "source": [
    "### 2. Manipulating Tensors"
   ]
  },
  {
   "cell_type": "markdown",
   "id": "132bb4dd-49e9-4d4b-91ed-be4d84395b29",
   "metadata": {},
   "source": [
    "#### a. Element-wise Operations"
   ]
  },
  {
   "cell_type": "code",
   "execution_count": 31,
   "id": "a793fb34-5353-4a58-9b1b-839ade3941dc",
   "metadata": {},
   "outputs": [
    {
     "name": "stdout",
     "output_type": "stream",
     "text": [
      "tf.Tensor([5 7 9], shape=(3,), dtype=int32)\n",
      "tf.Tensor([ 4 10 18], shape=(3,), dtype=int32)\n",
      "tf.Tensor([1 4 9], shape=(3,), dtype=int32)\n"
     ]
    }
   ],
   "source": [
    "a = tf.constant([1, 2, 3])\n",
    "b = tf.constant([4, 5, 6])\n",
    "\n",
    "result_add = a + b\n",
    "print(result_add)\n",
    "\n",
    "result_mul = a * b\n",
    "print(result_mul)\n",
    "\n",
    "result_exp = tf.pow(a, 2)\n",
    "print(result_exp)"
   ]
  },
  {
   "cell_type": "markdown",
   "id": "ffecb82e-76bf-4923-bb9d-39b2ce40a71d",
   "metadata": {},
   "source": [
    "#### b. Matrix Operations"
   ]
  },
  {
   "cell_type": "code",
   "execution_count": 38,
   "id": "1458421d-3e66-420d-ae91-f1b903c3d999",
   "metadata": {},
   "outputs": [
    {
     "name": "stdout",
     "output_type": "stream",
     "text": [
      "tf.Tensor(\n",
      "[[19 22]\n",
      " [43 50]], shape=(2, 2), dtype=int32)\n",
      "tf.Tensor(\n",
      "[[1 3]\n",
      " [2 4]], shape=(2, 2), dtype=int32)\n"
     ]
    }
   ],
   "source": [
    "matrix_a = tf.constant([[1,2],[3,4]])\n",
    "matrix_b = tf.constant([[5,6],[7,8]])\n",
    "\n",
    "result_dot = tf.matmul(matrix_a, matrix_b)\n",
    "print(result_dot)\n",
    "\n",
    "result_transpose = tf.transpose(matrix_a)\n",
    "print(result_transpose)"
   ]
  },
  {
   "cell_type": "markdown",
   "id": "74ed0cd8-714c-4fc8-b896-c59c63896399",
   "metadata": {},
   "source": [
    "#### c. Reshaping and Resizing"
   ]
  },
  {
   "cell_type": "code",
   "execution_count": 49,
   "id": "31936ae3-7ad1-44ab-bd85-e41f8749ae41",
   "metadata": {},
   "outputs": [
    {
     "name": "stdout",
     "output_type": "stream",
     "text": [
      "tf.Tensor(\n",
      "[[1]\n",
      " [2]\n",
      " [3]\n",
      " [4]\n",
      " [5]\n",
      " [6]], shape=(6, 1), dtype=int32)\n"
     ]
    }
   ],
   "source": [
    "tensor_2d = tf.constant([[1, 2, 3], [4, 5, 6]])\n",
    "\n",
    "# Reshape from 2x3 to 3x2\n",
    "reshaped_tensor = tf.reshape(tensor_2d, [6,1])\n",
    "print(reshaped_tensor)"
   ]
  },
  {
   "cell_type": "markdown",
   "id": "ff722013-a2b3-4f43-a8cc-a0bc31f41cc2",
   "metadata": {},
   "source": [
    "#### d. Slicing and Indexing"
   ]
  },
  {
   "cell_type": "code",
   "execution_count": 50,
   "id": "3c777b03-5947-4b6e-bf7b-22fef1f6f096",
   "metadata": {},
   "outputs": [
    {
     "name": "stdout",
     "output_type": "stream",
     "text": [
      "tf.Tensor([4 5 6], shape=(3,), dtype=int32)\n",
      "tf.Tensor([2 5 8], shape=(3,), dtype=int32)\n",
      "tf.Tensor([5 6], shape=(2,), dtype=int32)\n"
     ]
    }
   ],
   "source": [
    "tensor = tf.constant([[1, 2, 3], [4, 5, 6], [7, 8, 9]])\n",
    "\n",
    "# Indexing\n",
    "print(tensor[1])  # Second row\n",
    "\n",
    "# Slicing\n",
    "print(tensor[:, 1])  # Second column\n",
    "print(tensor[1, 1:3])  # Second row, second and third columns"
   ]
  },
  {
   "cell_type": "markdown",
   "id": "f165be2c-0213-4efb-90b7-9be7bfcd080d",
   "metadata": {},
   "source": [
    "#### e. Concatenation and Stacking"
   ]
  },
  {
   "cell_type": "code",
   "execution_count": 51,
   "id": "3daf515a-8af1-4adf-8999-230ab5ad7c2d",
   "metadata": {},
   "outputs": [
    {
     "name": "stdout",
     "output_type": "stream",
     "text": [
      "tf.Tensor([1 2 3 4], shape=(4,), dtype=int32)\n",
      "tf.Tensor(\n",
      "[[1 2]\n",
      " [3 4]], shape=(2, 2), dtype=int32)\n"
     ]
    }
   ],
   "source": [
    "# Concatenation\n",
    "tensor_1 = tf.constant([1, 2])\n",
    "tensor_2 = tf.constant([3, 4])\n",
    "concat_tensor = tf.concat([tensor_1, tensor_2], axis=0)  # Concatenate along the first axis (rows)\n",
    "print(concat_tensor)\n",
    "\n",
    "# Stacking\n",
    "stacked_tensor = tf.stack([tensor_1, tensor_2], axis=0)  # Stack tensors into a new axis\n",
    "print(stacked_tensor)"
   ]
  },
  {
   "cell_type": "markdown",
   "id": "7776e340-67eb-49e4-bab9-14e9a26b8427",
   "metadata": {},
   "source": [
    "#### f. Broadcasting\n"
   ]
  },
  {
   "cell_type": "code",
   "execution_count": 52,
   "id": "99badb5b-4e6c-432a-91b6-869739e0dee2",
   "metadata": {},
   "outputs": [
    {
     "name": "stdout",
     "output_type": "stream",
     "text": [
      "tf.Tensor(\n",
      "[[2 3 4]\n",
      " [3 4 5]\n",
      " [4 5 6]], shape=(3, 3), dtype=int32)\n"
     ]
    }
   ],
   "source": [
    "a = tf.constant([1, 2, 3])\n",
    "b = tf.constant([[1], [2], [3]])\n",
    "\n",
    "result_broadcast = a + b  # Broadcasting adds 'a' to each row of 'b'\n",
    "print(result_broadcast)"
   ]
  },
  {
   "cell_type": "code",
   "execution_count": null,
   "id": "0e101b1c-e383-4895-bfcd-90c3f7b534d7",
   "metadata": {},
   "outputs": [],
   "source": []
  }
 ],
 "metadata": {
  "kernelspec": {
   "display_name": "Python 3 (ipykernel)",
   "language": "python",
   "name": "python3"
  },
  "language_info": {
   "codemirror_mode": {
    "name": "ipython",
    "version": 3
   },
   "file_extension": ".py",
   "mimetype": "text/x-python",
   "name": "python",
   "nbconvert_exporter": "python",
   "pygments_lexer": "ipython3",
   "version": "3.9.13"
  }
 },
 "nbformat": 4,
 "nbformat_minor": 5
}
