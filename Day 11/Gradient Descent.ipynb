{
 "cells": [
  {
   "cell_type": "code",
   "execution_count": 36,
   "id": "a6055ed2-a23f-43a4-ad32-2855bab1ce5d",
   "metadata": {
    "scrolled": true
   },
   "outputs": [
    {
     "data": {
      "text/html": [
       "<div>\n",
       "<style scoped>\n",
       "    .dataframe tbody tr th:only-of-type {\n",
       "        vertical-align: middle;\n",
       "    }\n",
       "\n",
       "    .dataframe tbody tr th {\n",
       "        vertical-align: top;\n",
       "    }\n",
       "\n",
       "    .dataframe thead th {\n",
       "        text-align: right;\n",
       "    }\n",
       "</style>\n",
       "<table border=\"1\" class=\"dataframe\">\n",
       "  <thead>\n",
       "    <tr style=\"text-align: right;\">\n",
       "      <th></th>\n",
       "      <th>x</th>\n",
       "      <th>y</th>\n",
       "    </tr>\n",
       "  </thead>\n",
       "  <tbody>\n",
       "    <tr>\n",
       "      <th>0</th>\n",
       "      <td>0.2</td>\n",
       "      <td>5.6</td>\n",
       "    </tr>\n",
       "    <tr>\n",
       "      <th>1</th>\n",
       "      <td>1.2</td>\n",
       "      <td>8.6</td>\n",
       "    </tr>\n",
       "    <tr>\n",
       "      <th>2</th>\n",
       "      <td>1.0</td>\n",
       "      <td>8.0</td>\n",
       "    </tr>\n",
       "    <tr>\n",
       "      <th>3</th>\n",
       "      <td>1.4</td>\n",
       "      <td>9.2</td>\n",
       "    </tr>\n",
       "    <tr>\n",
       "      <th>4</th>\n",
       "      <td>-1.5</td>\n",
       "      <td>0.5</td>\n",
       "    </tr>\n",
       "    <tr>\n",
       "      <th>5</th>\n",
       "      <td>0.5</td>\n",
       "      <td>6.5</td>\n",
       "    </tr>\n",
       "    <tr>\n",
       "      <th>6</th>\n",
       "      <td>-0.5</td>\n",
       "      <td>3.5</td>\n",
       "    </tr>\n",
       "  </tbody>\n",
       "</table>\n",
       "</div>"
      ],
      "text/plain": [
       "     x    y\n",
       "0  0.2  5.6\n",
       "1  1.2  8.6\n",
       "2  1.0  8.0\n",
       "3  1.4  9.2\n",
       "4 -1.5  0.5\n",
       "5  0.5  6.5\n",
       "6 -0.5  3.5"
      ]
     },
     "execution_count": 36,
     "metadata": {},
     "output_type": "execute_result"
    }
   ],
   "source": [
    "import pandas as pd\n",
    "import numpy as np\n",
    "\n",
    "df = pd.DataFrame({'x': [0.2,1.2,1,1.4,-1.5, 0.5, -0.5]})\n",
    "df['y'] = 3* df['x'] + 5\n",
    "df"
   ]
  },
  {
   "cell_type": "code",
   "execution_count": 8,
   "id": "ddd1121c-fbfa-4312-b4ac-fd4d34a59a70",
   "metadata": {},
   "outputs": [],
   "source": [
    "w, b, eta = 0.3, 0.1, 0.2"
   ]
  },
  {
   "cell_type": "code",
   "execution_count": 22,
   "id": "4920429d-a39d-43a4-95f3-e36951c87905",
   "metadata": {},
   "outputs": [],
   "source": [
    "df['y_pred'] = w*df['x'] + b"
   ]
  },
  {
   "cell_type": "code",
   "execution_count": 23,
   "id": "f46548c3-55f4-4322-8a14-37c2ab06c2de",
   "metadata": {},
   "outputs": [],
   "source": [
    "df['error'] = df['y'] - df['y_pred']\n",
    "df['error^2'] = df['error'] **2"
   ]
  },
  {
   "cell_type": "code",
   "execution_count": 24,
   "id": "607fc909-1567-41fd-b484-c4295c93c89a",
   "metadata": {},
   "outputs": [],
   "source": [
    "df['error*x'] = df['x'] * df['error']"
   ]
  },
  {
   "cell_type": "code",
   "execution_count": 25,
   "id": "daaa78de-9ed8-4a5e-9d64-de914c47bc73",
   "metadata": {},
   "outputs": [
    {
     "data": {
      "text/html": [
       "<div>\n",
       "<style scoped>\n",
       "    .dataframe tbody tr th:only-of-type {\n",
       "        vertical-align: middle;\n",
       "    }\n",
       "\n",
       "    .dataframe tbody tr th {\n",
       "        vertical-align: top;\n",
       "    }\n",
       "\n",
       "    .dataframe thead th {\n",
       "        text-align: right;\n",
       "    }\n",
       "</style>\n",
       "<table border=\"1\" class=\"dataframe\">\n",
       "  <thead>\n",
       "    <tr style=\"text-align: right;\">\n",
       "      <th></th>\n",
       "      <th>x</th>\n",
       "      <th>y</th>\n",
       "      <th>y_pred</th>\n",
       "      <th>error</th>\n",
       "      <th>error^2</th>\n",
       "      <th>error*x</th>\n",
       "    </tr>\n",
       "  </thead>\n",
       "  <tbody>\n",
       "    <tr>\n",
       "      <th>0</th>\n",
       "      <td>0.2</td>\n",
       "      <td>5.6</td>\n",
       "      <td>0.16</td>\n",
       "      <td>5.44</td>\n",
       "      <td>29.5936</td>\n",
       "      <td>1.088</td>\n",
       "    </tr>\n",
       "    <tr>\n",
       "      <th>1</th>\n",
       "      <td>1.2</td>\n",
       "      <td>8.6</td>\n",
       "      <td>0.46</td>\n",
       "      <td>8.14</td>\n",
       "      <td>66.2596</td>\n",
       "      <td>9.768</td>\n",
       "    </tr>\n",
       "    <tr>\n",
       "      <th>2</th>\n",
       "      <td>1.0</td>\n",
       "      <td>8.0</td>\n",
       "      <td>0.40</td>\n",
       "      <td>7.60</td>\n",
       "      <td>57.7600</td>\n",
       "      <td>7.600</td>\n",
       "    </tr>\n",
       "    <tr>\n",
       "      <th>3</th>\n",
       "      <td>1.4</td>\n",
       "      <td>9.2</td>\n",
       "      <td>0.52</td>\n",
       "      <td>8.68</td>\n",
       "      <td>75.3424</td>\n",
       "      <td>12.152</td>\n",
       "    </tr>\n",
       "    <tr>\n",
       "      <th>4</th>\n",
       "      <td>-1.5</td>\n",
       "      <td>0.5</td>\n",
       "      <td>-0.35</td>\n",
       "      <td>0.85</td>\n",
       "      <td>0.7225</td>\n",
       "      <td>-1.275</td>\n",
       "    </tr>\n",
       "    <tr>\n",
       "      <th>5</th>\n",
       "      <td>0.5</td>\n",
       "      <td>6.5</td>\n",
       "      <td>0.25</td>\n",
       "      <td>6.25</td>\n",
       "      <td>39.0625</td>\n",
       "      <td>3.125</td>\n",
       "    </tr>\n",
       "    <tr>\n",
       "      <th>6</th>\n",
       "      <td>-0.5</td>\n",
       "      <td>3.5</td>\n",
       "      <td>-0.05</td>\n",
       "      <td>3.55</td>\n",
       "      <td>12.6025</td>\n",
       "      <td>-1.775</td>\n",
       "    </tr>\n",
       "  </tbody>\n",
       "</table>\n",
       "</div>"
      ],
      "text/plain": [
       "     x    y  y_pred  error  error^2  error*x\n",
       "0  0.2  5.6    0.16   5.44  29.5936    1.088\n",
       "1  1.2  8.6    0.46   8.14  66.2596    9.768\n",
       "2  1.0  8.0    0.40   7.60  57.7600    7.600\n",
       "3  1.4  9.2    0.52   8.68  75.3424   12.152\n",
       "4 -1.5  0.5   -0.35   0.85   0.7225   -1.275\n",
       "5  0.5  6.5    0.25   6.25  39.0625    3.125\n",
       "6 -0.5  3.5   -0.05   3.55  12.6025   -1.775"
      ]
     },
     "execution_count": 25,
     "metadata": {},
     "output_type": "execute_result"
    }
   ],
   "source": [
    "df"
   ]
  },
  {
   "cell_type": "code",
   "execution_count": 26,
   "id": "e70bd1a3-ea87-44e4-b783-d0df77967ae5",
   "metadata": {},
   "outputs": [
    {
     "data": {
      "text/plain": [
       "20.095935714285712"
      ]
     },
     "execution_count": 26,
     "metadata": {},
     "output_type": "execute_result"
    }
   ],
   "source": [
    "loss = np.average(df['error^2'])/2\n",
    "loss"
   ]
  },
  {
   "cell_type": "code",
   "execution_count": 27,
   "id": "81ab1593-8288-4fd0-87cb-d057ac20cb7f",
   "metadata": {},
   "outputs": [
    {
     "data": {
      "text/plain": [
       "-4.383285714285714"
      ]
     },
     "execution_count": 27,
     "metadata": {},
     "output_type": "execute_result"
    }
   ],
   "source": [
    "dw = -np.average(df['error*x'])\n",
    "dw"
   ]
  },
  {
   "cell_type": "code",
   "execution_count": 28,
   "id": "a34f14bb-d4bc-4142-a5d2-a4f0cf6b5319",
   "metadata": {},
   "outputs": [
    {
     "data": {
      "text/plain": [
       "-5.7871428571428565"
      ]
     },
     "execution_count": 28,
     "metadata": {},
     "output_type": "execute_result"
    }
   ],
   "source": [
    "db = -np.average(df['error'])\n",
    "db"
   ]
  },
  {
   "cell_type": "code",
   "execution_count": 30,
   "id": "b6145ab6-ef20-42ba-a7dd-696b2e1adf63",
   "metadata": {},
   "outputs": [],
   "source": [
    "new_w = w - eta*dw\n",
    "new_b = b - eta*db"
   ]
  },
  {
   "cell_type": "code",
   "execution_count": 31,
   "id": "b7a8f7b6-487b-4a77-a153-79e1b72b387f",
   "metadata": {},
   "outputs": [
    {
     "data": {
      "text/plain": [
       "(1.1766571428571428, 1.2574285714285713)"
      ]
     },
     "execution_count": 31,
     "metadata": {},
     "output_type": "execute_result"
    }
   ],
   "source": [
    "new_w, new_b"
   ]
  },
  {
   "cell_type": "code",
   "execution_count": 64,
   "id": "96c6052e-148c-4b2e-9623-7294fd59731a",
   "metadata": {},
   "outputs": [
    {
     "name": "stdout",
     "output_type": "stream",
     "text": [
      "new w :  1.1766571428571428\n",
      "new b :  1.2574285714285713\n",
      "loss :  20.095935714285712\n",
      "new w :  1.7971642693877552\n",
      "new b :  2.1257625306122447\n",
      "loss :  10.952997757662391\n",
      "new w :  2.2331395574647233\n",
      "new b :  2.7796535153586004\n",
      "loss :  6.009611558539441\n",
      "new w :  2.536583085936262\n",
      "new b :  3.274116498510627\n",
      "loss :  3.32644496238763\n",
      "new w :  2.745197362094657\n",
      "new b :  3.649746310304119\n",
      "loss :  1.862421697322274\n",
      "new w :  2.8862720607472268\n",
      "new b :  3.9365412215913604\n",
      "loss :  1.0579802312749422\n",
      "new w :  2.97951946284915\n",
      "new b :  4.156706527566842\n",
      "loss :  0.6118539055559408\n",
      "new w :  3.0391431785266034\n",
      "new b :  4.326711085923386\n",
      "loss :  0.36146215017489947\n",
      "new w :  3.0753467513486017\n",
      "new b :  4.458796602721247\n",
      "loss :  0.21878647813951807\n",
      "new w :  3.0954331705355926\n",
      "new b :  4.562085924231232\n",
      "loss :  0.13596771317963877\n",
      "new w :  3.104605681338943\n",
      "new b :  4.64339741674979\n",
      "loss :  0.08683021326976892\n",
      "new w :  3.106550569700328\n",
      "new b :  4.707843845768987\n",
      "loss :  0.0569457917433155\n",
      "new w :  3.103860871374213\n",
      "new b :  4.759273182034882\n",
      "loss :  0.038279964967667786\n",
      "new w :  3.0983440718353323\n",
      "new b :  4.800593402651885\n",
      "loss :  0.026299662085132566\n",
      "new w :  3.091245251761179\n",
      "new b :  4.834012111686615\n",
      "loss :  0.018405094819252035\n",
      "new w :  3.083408645559976\n",
      "new b :  4.861213572804986\n",
      "loss :  0.013075415489647428\n",
      "new w :  3.075394377587756\n",
      "new b :  4.883489718678619\n",
      "loss :  0.009400214835485058\n",
      "new w :  3.067562608221562\n",
      "new b :  4.901837287272842\n",
      "loss :  0.006820379388128463\n",
      "new w :  3.06013401068326\n",
      "new b :  4.9170300012779995\n",
      "loss :  0.0049831336138752135\n",
      "new w :  3.053233080976059\n",
      "new b :  4.929672337463214\n",
      "loss :  0.003659787994669\n",
      "new w :  3.0469190173079657\n",
      "new b :  4.9402396960778585\n",
      "loss :  0.0026982367327188055\n",
      "new w :  3.04120761629587\n",
      "new b :  4.949108507153477\n",
      "loss :  0.0019949404206157503\n",
      "new w :  3.0360866926495755\n",
      "new b :  4.9565788766519105\n",
      "loss :  0.0014779982814683344\n",
      "new w :  3.031526843036723\n",
      "new b :  4.96289169009027\n",
      "loss :  0.0010966483562195148\n",
      "new w :  3.0274888747898183\n",
      "new b :  4.968241588101232\n",
      "loss :  0.0008145751612090791\n"
     ]
    }
   ],
   "source": [
    "df['y'] = 3* df['x'] + 5\n",
    "w, b, eta = 0.3, 0.1, 0.2\n",
    "epoches = 25\n",
    "for i in range(epoches):\n",
    "    df['y_pred'] = w*df['x'] + b\n",
    "    df['error'] = df['y'] - df['y_pred']\n",
    "    df['error^2'] = df['error'] **2\n",
    "    df['error*x'] = df['x'] * df['error']\n",
    "    dw = -np.average(df['error*x'])\n",
    "    db = -np.average(df['error'])\n",
    "    loss = np.average(df['error^2'])/2\n",
    "    new_w = w - eta*dw\n",
    "    new_b = b - eta*db\n",
    "    w, b = new_w, new_b\n",
    "    print('new w : ', new_w)\n",
    "    print('new b : ', new_b)\n",
    "    print('loss : ', loss)"
   ]
  },
  {
   "cell_type": "code",
   "execution_count": 65,
   "id": "c8cd699c-a115-4e32-ab13-3ad3ed3e0e60",
   "metadata": {
    "scrolled": true
   },
   "outputs": [
    {
     "data": {
      "text/plain": [
       "(3.0274888747898183, 4.968241588101232)"
      ]
     },
     "execution_count": 65,
     "metadata": {},
     "output_type": "execute_result"
    }
   ],
   "source": [
    "new_w, new_b"
   ]
  },
  {
   "cell_type": "code",
   "execution_count": 66,
   "id": "65e31c4d-8b55-4626-a6e7-5ea167a83a54",
   "metadata": {},
   "outputs": [
    {
     "data": {
      "text/plain": [
       "0.0008145751612090791"
      ]
     },
     "execution_count": 66,
     "metadata": {},
     "output_type": "execute_result"
    }
   ],
   "source": [
    "loss"
   ]
  },
  {
   "cell_type": "code",
   "execution_count": null,
   "id": "07c34156-18d5-4722-8f0c-0406780c0c95",
   "metadata": {},
   "outputs": [],
   "source": []
  }
 ],
 "metadata": {
  "kernelspec": {
   "display_name": "Python 3 (ipykernel)",
   "language": "python",
   "name": "python3"
  },
  "language_info": {
   "codemirror_mode": {
    "name": "ipython",
    "version": 3
   },
   "file_extension": ".py",
   "mimetype": "text/x-python",
   "name": "python",
   "nbconvert_exporter": "python",
   "pygments_lexer": "ipython3",
   "version": "3.12.4"
  }
 },
 "nbformat": 4,
 "nbformat_minor": 5
}
