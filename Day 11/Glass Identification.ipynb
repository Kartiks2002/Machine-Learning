{
 "cells": [
  {
   "cell_type": "code",
   "execution_count": 151,
   "id": "f1c32d9f-572b-49e3-b586-74445eec35eb",
   "metadata": {},
   "outputs": [],
   "source": [
    "import torch\n",
    "import pandas as pd\n",
    "import numpy as np\n",
    "import torch.nn as nn\n",
    "from sklearn.model_selection import train_test_split \n",
    "from sklearn.metrics import accuracy_score, log_loss\n",
    "from torchsummary import summary\n",
    "from sklearn.preprocessing import MinMaxScaler, LabelEncoder\n",
    "import matplotlib.pyplot as plt"
   ]
  },
  {
   "cell_type": "code",
   "execution_count": 304,
   "id": "08e3c370-c224-4109-b2d5-47b3a8eb0ee3",
   "metadata": {},
   "outputs": [
    {
     "data": {
      "text/html": [
       "<div>\n",
       "<style scoped>\n",
       "    .dataframe tbody tr th:only-of-type {\n",
       "        vertical-align: middle;\n",
       "    }\n",
       "\n",
       "    .dataframe tbody tr th {\n",
       "        vertical-align: top;\n",
       "    }\n",
       "\n",
       "    .dataframe thead th {\n",
       "        text-align: right;\n",
       "    }\n",
       "</style>\n",
       "<table border=\"1\" class=\"dataframe\">\n",
       "  <thead>\n",
       "    <tr style=\"text-align: right;\">\n",
       "      <th></th>\n",
       "      <th>RI</th>\n",
       "      <th>Na</th>\n",
       "      <th>Mg</th>\n",
       "      <th>Al</th>\n",
       "      <th>Si</th>\n",
       "      <th>K</th>\n",
       "      <th>Ca</th>\n",
       "      <th>Ba</th>\n",
       "      <th>Fe</th>\n",
       "      <th>Type</th>\n",
       "    </tr>\n",
       "  </thead>\n",
       "  <tbody>\n",
       "    <tr>\n",
       "      <th>0</th>\n",
       "      <td>1.52101</td>\n",
       "      <td>13.64</td>\n",
       "      <td>4.49</td>\n",
       "      <td>1.10</td>\n",
       "      <td>71.78</td>\n",
       "      <td>0.06</td>\n",
       "      <td>8.75</td>\n",
       "      <td>0.00</td>\n",
       "      <td>0.0</td>\n",
       "      <td>building_windows_float_processed</td>\n",
       "    </tr>\n",
       "    <tr>\n",
       "      <th>1</th>\n",
       "      <td>1.51761</td>\n",
       "      <td>13.89</td>\n",
       "      <td>3.60</td>\n",
       "      <td>1.36</td>\n",
       "      <td>72.73</td>\n",
       "      <td>0.48</td>\n",
       "      <td>7.83</td>\n",
       "      <td>0.00</td>\n",
       "      <td>0.0</td>\n",
       "      <td>building_windows_float_processed</td>\n",
       "    </tr>\n",
       "    <tr>\n",
       "      <th>2</th>\n",
       "      <td>1.51618</td>\n",
       "      <td>13.53</td>\n",
       "      <td>3.55</td>\n",
       "      <td>1.54</td>\n",
       "      <td>72.99</td>\n",
       "      <td>0.39</td>\n",
       "      <td>7.78</td>\n",
       "      <td>0.00</td>\n",
       "      <td>0.0</td>\n",
       "      <td>building_windows_float_processed</td>\n",
       "    </tr>\n",
       "    <tr>\n",
       "      <th>3</th>\n",
       "      <td>1.51766</td>\n",
       "      <td>13.21</td>\n",
       "      <td>3.69</td>\n",
       "      <td>1.29</td>\n",
       "      <td>72.61</td>\n",
       "      <td>0.57</td>\n",
       "      <td>8.22</td>\n",
       "      <td>0.00</td>\n",
       "      <td>0.0</td>\n",
       "      <td>building_windows_float_processed</td>\n",
       "    </tr>\n",
       "    <tr>\n",
       "      <th>4</th>\n",
       "      <td>1.51742</td>\n",
       "      <td>13.27</td>\n",
       "      <td>3.62</td>\n",
       "      <td>1.24</td>\n",
       "      <td>73.08</td>\n",
       "      <td>0.55</td>\n",
       "      <td>8.07</td>\n",
       "      <td>0.00</td>\n",
       "      <td>0.0</td>\n",
       "      <td>building_windows_float_processed</td>\n",
       "    </tr>\n",
       "    <tr>\n",
       "      <th>...</th>\n",
       "      <td>...</td>\n",
       "      <td>...</td>\n",
       "      <td>...</td>\n",
       "      <td>...</td>\n",
       "      <td>...</td>\n",
       "      <td>...</td>\n",
       "      <td>...</td>\n",
       "      <td>...</td>\n",
       "      <td>...</td>\n",
       "      <td>...</td>\n",
       "    </tr>\n",
       "    <tr>\n",
       "      <th>209</th>\n",
       "      <td>1.51623</td>\n",
       "      <td>14.14</td>\n",
       "      <td>0.00</td>\n",
       "      <td>2.88</td>\n",
       "      <td>72.61</td>\n",
       "      <td>0.08</td>\n",
       "      <td>9.18</td>\n",
       "      <td>1.06</td>\n",
       "      <td>0.0</td>\n",
       "      <td>headlamps</td>\n",
       "    </tr>\n",
       "    <tr>\n",
       "      <th>210</th>\n",
       "      <td>1.51685</td>\n",
       "      <td>14.92</td>\n",
       "      <td>0.00</td>\n",
       "      <td>1.99</td>\n",
       "      <td>73.06</td>\n",
       "      <td>0.00</td>\n",
       "      <td>8.40</td>\n",
       "      <td>1.59</td>\n",
       "      <td>0.0</td>\n",
       "      <td>headlamps</td>\n",
       "    </tr>\n",
       "    <tr>\n",
       "      <th>211</th>\n",
       "      <td>1.52065</td>\n",
       "      <td>14.36</td>\n",
       "      <td>0.00</td>\n",
       "      <td>2.02</td>\n",
       "      <td>73.42</td>\n",
       "      <td>0.00</td>\n",
       "      <td>8.44</td>\n",
       "      <td>1.64</td>\n",
       "      <td>0.0</td>\n",
       "      <td>headlamps</td>\n",
       "    </tr>\n",
       "    <tr>\n",
       "      <th>212</th>\n",
       "      <td>1.51651</td>\n",
       "      <td>14.38</td>\n",
       "      <td>0.00</td>\n",
       "      <td>1.94</td>\n",
       "      <td>73.61</td>\n",
       "      <td>0.00</td>\n",
       "      <td>8.48</td>\n",
       "      <td>1.57</td>\n",
       "      <td>0.0</td>\n",
       "      <td>headlamps</td>\n",
       "    </tr>\n",
       "    <tr>\n",
       "      <th>213</th>\n",
       "      <td>1.51711</td>\n",
       "      <td>14.23</td>\n",
       "      <td>0.00</td>\n",
       "      <td>2.08</td>\n",
       "      <td>73.36</td>\n",
       "      <td>0.00</td>\n",
       "      <td>8.62</td>\n",
       "      <td>1.67</td>\n",
       "      <td>0.0</td>\n",
       "      <td>headlamps</td>\n",
       "    </tr>\n",
       "  </tbody>\n",
       "</table>\n",
       "<p>214 rows × 10 columns</p>\n",
       "</div>"
      ],
      "text/plain": [
       "          RI     Na    Mg    Al     Si     K    Ca    Ba   Fe  \\\n",
       "0    1.52101  13.64  4.49  1.10  71.78  0.06  8.75  0.00  0.0   \n",
       "1    1.51761  13.89  3.60  1.36  72.73  0.48  7.83  0.00  0.0   \n",
       "2    1.51618  13.53  3.55  1.54  72.99  0.39  7.78  0.00  0.0   \n",
       "3    1.51766  13.21  3.69  1.29  72.61  0.57  8.22  0.00  0.0   \n",
       "4    1.51742  13.27  3.62  1.24  73.08  0.55  8.07  0.00  0.0   \n",
       "..       ...    ...   ...   ...    ...   ...   ...   ...  ...   \n",
       "209  1.51623  14.14  0.00  2.88  72.61  0.08  9.18  1.06  0.0   \n",
       "210  1.51685  14.92  0.00  1.99  73.06  0.00  8.40  1.59  0.0   \n",
       "211  1.52065  14.36  0.00  2.02  73.42  0.00  8.44  1.64  0.0   \n",
       "212  1.51651  14.38  0.00  1.94  73.61  0.00  8.48  1.57  0.0   \n",
       "213  1.51711  14.23  0.00  2.08  73.36  0.00  8.62  1.67  0.0   \n",
       "\n",
       "                                 Type  \n",
       "0    building_windows_float_processed  \n",
       "1    building_windows_float_processed  \n",
       "2    building_windows_float_processed  \n",
       "3    building_windows_float_processed  \n",
       "4    building_windows_float_processed  \n",
       "..                                ...  \n",
       "209                         headlamps  \n",
       "210                         headlamps  \n",
       "211                         headlamps  \n",
       "212                         headlamps  \n",
       "213                         headlamps  \n",
       "\n",
       "[214 rows x 10 columns]"
      ]
     },
     "execution_count": 304,
     "metadata": {},
     "output_type": "execute_result"
    }
   ],
   "source": [
    "df = pd.read_csv(\"../Cases/Glass Identification/Glass.csv\")\n",
    "df"
   ]
  },
  {
   "cell_type": "code",
   "execution_count": 305,
   "id": "d25add24-75c4-46b1-b892-d84efce78218",
   "metadata": {},
   "outputs": [],
   "source": [
    "X = df.drop('Type', axis=1)\n",
    "y = df['Type']"
   ]
  },
  {
   "cell_type": "code",
   "execution_count": 306,
   "id": "fa67ba17-9cbb-4402-945f-532be6e6dcfd",
   "metadata": {},
   "outputs": [],
   "source": [
    "le = LabelEncoder()\n",
    "le_y = le.fit_transform(y)\n",
    "X_train, X_test, y_train, y_test = train_test_split(X,le_y, test_size = 0.3, \n",
    "                                                    random_state=24,stratify=le_y)"
   ]
  },
  {
   "cell_type": "code",
   "execution_count": 307,
   "id": "13cc932f-4a7e-489f-aa90-8de839bea653",
   "metadata": {},
   "outputs": [
    {
     "data": {
      "text/plain": [
       "((214, 9), (214,))"
      ]
     },
     "execution_count": 307,
     "metadata": {},
     "output_type": "execute_result"
    }
   ],
   "source": [
    "X.shape, y.shape"
   ]
  },
  {
   "cell_type": "code",
   "execution_count": 308,
   "id": "d681e112-1518-46e8-8ae6-82c78150caeb",
   "metadata": {},
   "outputs": [
    {
     "data": {
      "text/plain": [
       "(149, 6)"
      ]
     },
     "execution_count": 308,
     "metadata": {},
     "output_type": "execute_result"
    }
   ],
   "source": [
    "from sklearn.preprocessing import OneHotEncoder\n",
    "ohe = OneHotEncoder(sparse_output=False)\n",
    "y_trn_ohe = ohe.fit_transform(y_train.reshape(-1,1))\n",
    "y_trn_ohe.shape"
   ]
  },
  {
   "cell_type": "code",
   "execution_count": 309,
   "id": "655e4818-a818-46c7-bda6-1aacb65507b5",
   "metadata": {},
   "outputs": [],
   "source": [
    "from sklearn.preprocessing import MinMaxScaler\n",
    "scaler = MinMaxScaler()\n",
    "X_scl_trn = scaler.fit_transform(X_train)\n",
    "X_scl_tst = scaler.fit_transform(X_test)"
   ]
  },
  {
   "cell_type": "code",
   "execution_count": 310,
   "id": "30f24221-4d9f-4b65-a310-cd9a15378c00",
   "metadata": {},
   "outputs": [],
   "source": [
    "X_torch = torch.from_numpy(X_scl_trn)\n",
    "y_torch = torch.from_numpy(y_trn_ohe)"
   ]
  },
  {
   "cell_type": "code",
   "execution_count": 348,
   "id": "8ed35d5f-3c47-40f4-a6e7-dbc79a426406",
   "metadata": {},
   "outputs": [],
   "source": [
    "torch.manual_seed(24)\n",
    "model = nn.Sequential(nn.Linear(in_features=X_scl_trn.shape[1], out_features=7),\n",
    "                    nn.SELU(),\n",
    "                     nn.Linear(in_features=7, out_features=6),\n",
    "                    nn.SELU(),\n",
    "                     )"
   ]
  },
  {
   "cell_type": "code",
   "execution_count": 349,
   "id": "e3a49302-c8b9-4b6e-b3d7-98d46da0ae49",
   "metadata": {},
   "outputs": [
    {
     "name": "stdout",
     "output_type": "stream",
     "text": [
      "----------------------------------------------------------------\n",
      "        Layer (type)               Output Shape         Param #\n",
      "================================================================\n",
      "            Linear-1                 [-1, 1, 7]              70\n",
      "              SELU-2                 [-1, 1, 7]               0\n",
      "            Linear-3                 [-1, 1, 6]              48\n",
      "              SELU-4                 [-1, 1, 6]               0\n",
      "================================================================\n",
      "Total params: 118\n",
      "Trainable params: 118\n",
      "Non-trainable params: 0\n",
      "----------------------------------------------------------------\n",
      "Input size (MB): 0.00\n",
      "Forward/backward pass size (MB): 0.00\n",
      "Params size (MB): 0.00\n",
      "Estimated Total Size (MB): 0.00\n",
      "----------------------------------------------------------------\n"
     ]
    }
   ],
   "source": [
    "summary(model, (1,X_scl_trn.shape[1]))"
   ]
  },
  {
   "cell_type": "code",
   "execution_count": 350,
   "id": "ab93e35a-c0d2-400d-a5b2-43c7b741b316",
   "metadata": {},
   "outputs": [
    {
     "data": {
      "text/plain": [
       "Adagrad (\n",
       "Parameter Group 0\n",
       "    differentiable: False\n",
       "    eps: 1e-10\n",
       "    foreach: None\n",
       "    fused: None\n",
       "    initial_accumulator_value: 0\n",
       "    lr: 0.1\n",
       "    lr_decay: 0\n",
       "    maximize: False\n",
       "    weight_decay: 0\n",
       ")"
      ]
     },
     "execution_count": 350,
     "metadata": {},
     "output_type": "execute_result"
    }
   ],
   "source": [
    "criterion = torch.nn.CrossEntropyLoss()\n",
    "optimizer = torch.optim.Adagrad(model.parameters(), lr = 0.1)\n",
    "optimizer"
   ]
  },
  {
   "cell_type": "code",
   "execution_count": 351,
   "id": "5a237b15-6b3d-4d30-bb11-1f0b05b046db",
   "metadata": {},
   "outputs": [
    {
     "name": "stdout",
     "output_type": "stream",
     "text": [
      "torch.Size([149, 6])\n",
      "torch.Size([149, 6])\n"
     ]
    }
   ],
   "source": [
    "# for p in model.parameters():\n",
    "#     print(p)\n",
    "\n",
    "y_pred = model(X_torch.float())\n",
    "# y_pred[:3]\n",
    "\n",
    "# y_torch = y_torch.unsqueeze(1)\n",
    "print(y_torch.shape)\n",
    "print(y_pred.shape)"
   ]
  },
  {
   "cell_type": "code",
   "execution_count": 352,
   "id": "bb83c48b-a2a0-4f91-be60-0228e764f15a",
   "metadata": {},
   "outputs": [
    {
     "data": {
      "text/plain": [
       "(65, 6)"
      ]
     },
     "execution_count": 352,
     "metadata": {},
     "output_type": "execute_result"
    }
   ],
   "source": [
    "y_pred_prob.shape"
   ]
  },
  {
   "cell_type": "code",
   "execution_count": 353,
   "id": "e3017883-494f-4ea7-9c41-b68dc66bf961",
   "metadata": {},
   "outputs": [
    {
     "name": "stdout",
     "output_type": "stream",
     "text": [
      "epoch:  1  loss:  1.6923178434371948\n",
      "epoch:  101  loss:  0.7861059308052063\n",
      "epoch:  201  loss:  0.7370367646217346\n",
      "epoch:  301  loss:  0.6978946328163147\n",
      "epoch:  401  loss:  0.6677765250205994\n",
      "epoch:  501  loss:  0.6383868455886841\n",
      "epoch:  601  loss:  0.6224290728569031\n",
      "epoch:  701  loss:  0.6096880435943604\n",
      "epoch:  801  loss:  0.5980682373046875\n",
      "epoch:  901  loss:  0.5871026515960693\n"
     ]
    }
   ],
   "source": [
    "for epoch in np.arange(0,1000):\n",
    "       # Forward pass: Compute predicted y by passing x to the model\n",
    "       y_pred_prob = model(X_torch.float())\n",
    "\n",
    "       # Compute and print loss\n",
    "       loss = criterion(y_pred_prob, y_torch.float())\n",
    "       if epoch%100 == 0:\n",
    "          print('epoch: ', epoch+1,' loss: ', loss.item())\n",
    "\n",
    "       # Zero gradients, perform a backward pass, and update the weights.\n",
    "       optimizer.zero_grad()\n",
    "\n",
    "       # perform a backward pass (backpropagation)\n",
    "       loss.backward()\n",
    "\n",
    "       # Update the parameters\n",
    "       optimizer.step()\n",
    "#print('epoch: ', epoch+1,' loss: ', loss.item())"
   ]
  },
  {
   "cell_type": "code",
   "execution_count": 354,
   "id": "f636b413-4344-43fa-84cb-f3aee0e23e9b",
   "metadata": {},
   "outputs": [
    {
     "data": {
      "text/plain": [
       "tensor([[9.8408e-01, 1.0016e-02, 5.9101e-06, 5.6042e-06, 5.6041e-06, 5.8863e-03],\n",
       "        [2.0222e-09, 1.4886e-07, 2.6625e-07, 1.0000e+00, 3.4836e-06, 2.0222e-09],\n",
       "        [2.6641e-01, 5.7006e-01, 5.7092e-04, 5.8399e-04, 1.3203e-02, 1.4917e-01]],\n",
       "       grad_fn=<SliceBackward0>)"
      ]
     },
     "execution_count": 354,
     "metadata": {},
     "output_type": "execute_result"
    }
   ],
   "source": [
    "X_torch_test = torch.from_numpy(X_scl_tst)\n",
    "\n",
    "y_wt_sum = model(X_torch_test.float())\n",
    "softmax = nn.Softmax(dim=1)\n",
    "y_pred_prob = softmax(y_wt_sum)\n",
    "y_pred_prob[:3]"
   ]
  },
  {
   "cell_type": "code",
   "execution_count": 355,
   "id": "fe880158-4275-40ec-a5ae-10247ee9f90d",
   "metadata": {},
   "outputs": [
    {
     "data": {
      "text/plain": [
       "(65, 6)"
      ]
     },
     "execution_count": 355,
     "metadata": {},
     "output_type": "execute_result"
    }
   ],
   "source": [
    "y_pred_prob =y_pred_prob.detach().numpy()\n",
    "y_pred_prob.shape"
   ]
  },
  {
   "cell_type": "code",
   "execution_count": 356,
   "id": "947e5aed-501a-4458-a514-f79355760b23",
   "metadata": {},
   "outputs": [
    {
     "data": {
      "text/plain": [
       "(65,)"
      ]
     },
     "execution_count": 356,
     "metadata": {},
     "output_type": "execute_result"
    }
   ],
   "source": [
    "y_pred = np.argmax(y_pred_prob,axis=1)\n",
    "y_pred.shape"
   ]
  },
  {
   "cell_type": "code",
   "execution_count": 357,
   "id": "605a1a1f-4ecb-4203-8ead-1809ad28cdd9",
   "metadata": {},
   "outputs": [
    {
     "data": {
      "text/plain": [
       "0.5230769230769231"
      ]
     },
     "execution_count": 357,
     "metadata": {},
     "output_type": "execute_result"
    }
   ],
   "source": [
    "accuracy_score(y_test, y_pred)"
   ]
  },
  {
   "cell_type": "code",
   "execution_count": 346,
   "id": "2ebc7f59-26d3-46af-a423-2a81cb1ca182",
   "metadata": {},
   "outputs": [
    {
     "data": {
      "text/plain": [
       "1.0426343254118517"
      ]
     },
     "execution_count": 346,
     "metadata": {},
     "output_type": "execute_result"
    }
   ],
   "source": [
    "log_loss(y_test, y_pred_prob)"
   ]
  },
  {
   "cell_type": "code",
   "execution_count": null,
   "id": "5891c823-d143-4184-8465-e9b1b8cc22db",
   "metadata": {},
   "outputs": [],
   "source": []
  },
  {
   "cell_type": "code",
   "execution_count": null,
   "id": "01968001-b736-49f4-a701-547dd6190c7d",
   "metadata": {},
   "outputs": [],
   "source": []
  }
 ],
 "metadata": {
  "kernelspec": {
   "display_name": "Python 3 (ipykernel)",
   "language": "python",
   "name": "python3"
  },
  "language_info": {
   "codemirror_mode": {
    "name": "ipython",
    "version": 3
   },
   "file_extension": ".py",
   "mimetype": "text/x-python",
   "name": "python",
   "nbconvert_exporter": "python",
   "pygments_lexer": "ipython3",
   "version": "3.12.4"
  }
 },
 "nbformat": 4,
 "nbformat_minor": 5
}
